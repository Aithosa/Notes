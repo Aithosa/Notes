{
 "cells": [
  {
   "cell_type": "markdown",
   "metadata": {},
   "source": [
    "## 2.9 编程模型"
   ]
  },
  {
   "cell_type": "markdown",
   "metadata": {},
   "source": [
    "以下面的代码为例，在此我们希望将两个数相乘。该示例真正想要说明的是如何安排代码结构。"
   ]
  },
  {
   "cell_type": "code",
   "execution_count": 1,
   "metadata": {},
   "outputs": [
    {
     "name": "stdout",
     "output_type": "stream",
     "text": [
      "[100.]\n"
     ]
    }
   ],
   "source": [
    "import tensorflow as tf\n",
    "\n",
    "with tf.Session() as session:    # 使用tf.Session()指令，创建一个对象session，该对象包含计算图\n",
    "    x = tf.placeholder(tf.float32,[1],name=\"x\")    # 利用占位符（placeholder）的概念，定义了变量x和y\n",
    "    y = tf.placeholder(tf.float32,[1],name=\"y\")\n",
    "    z = tf.constant(1.0)    # 定义了一个常数（= 1.0），并命名为b：\n",
    "    y = x * z    # 引入想要计算的模型了\n",
    "    x_in = [100]    # 定义了计算模型\n",
    "    y_output = session.run(y,{x:x_in})    # 使用session.run命令执行计算图\n",
    "    print(y_output)"
   ]
  },
  {
   "cell_type": "markdown",
   "metadata": {},
   "source": [
    "用placeholder函数定义一个数据或张量需要3个参数。\n",
    "* 第一个是数据类型。\n",
    "* 第二个是占位符的形状，本例中为一个[一维张量](https://www.tensorflow.org/versions/r0.8/api_docs/python/framework.html#Tensor)，含有一个条目。\n",
    "* 第三个是变量名，选择清晰合适的变量名对代码的调试和分析大有裨益。\n",
    "\n",
    "不要忘记，只有执行session.run()时，程序才会开始处理已定义的图元素。"
   ]
  },
  {
   "cell_type": "markdown",
   "metadata": {},
   "source": [
    "## 2.10 数据模型"
   ]
  },
  {
   "cell_type": "markdown",
   "metadata": {},
   "source": [
    "TensorFlow的数据模型由**张量**表示。忽略那些复杂的数学定义，可以说（TensorFlow中的）“张量”指的是一个**多维数值阵列**。\n",
    "\n",
    "这种数据结构由3个参数描述——**阶（rank）**、**形状（shape）**和**数据类型（type）**。"
   ]
  },
  {
   "cell_type": "markdown",
   "metadata": {},
   "source": [
    "### 2.10.1 阶"
   ]
  },
  {
   "cell_type": "markdown",
   "metadata": {},
   "source": [
    "每个张量的维度单位用阶来描述。它定义了张量的维数，因此，也被称为一个张量的量级或张量的n个维。\n",
    "* 零阶张量是一个标量，\n",
    "* 一阶张量是一个向量，\n",
    "* 二阶张量是一个矩阵。"
   ]
  },
  {
   "cell_type": "code",
   "execution_count": 2,
   "metadata": {},
   "outputs": [
    {
     "name": "stdout",
     "output_type": "stream",
     "text": [
      "()\n",
      "(5,)\n",
      "(2, 3)\n",
      "(3, 3, 1)\n"
     ]
    }
   ],
   "source": [
    "import tensorflow as tf\n",
    "\n",
    "scalar = tf.constant(100)\n",
    "vector = tf.constant([1,2,3,4,5])\n",
    "matrix = tf.constant([[1,2,3],[4,5,6]])\n",
    "cube_matrix = tf.constant([[[1],[2],[3]],[[4],[5],[6]],[[7],[8],[9]]])\n",
    "print(scalar.get_shape())\n",
    "print(vector.get_shape())\n",
    "print(matrix.get_shape())\n",
    "print(cube_matrix.get_shape())"
   ]
  },
  {
   "cell_type": "markdown",
   "metadata": {},
   "source": [
    "### 2.10.2 形状\n",
    "\n",
    "张量的形状指的是其行数和列数。"
   ]
  },
  {
   "cell_type": "code",
   "execution_count": 3,
   "metadata": {},
   "outputs": [
    {
     "data": {
      "text/plain": [
       "TensorShape([])"
      ]
     },
     "execution_count": 3,
     "metadata": {},
     "output_type": "execute_result"
    }
   ],
   "source": [
    "scalar.get_shape()"
   ]
  },
  {
   "cell_type": "code",
   "execution_count": 4,
   "metadata": {},
   "outputs": [
    {
     "data": {
      "text/plain": [
       "TensorShape([Dimension(5)])"
      ]
     },
     "execution_count": 4,
     "metadata": {},
     "output_type": "execute_result"
    }
   ],
   "source": [
    "vector.get_shape()"
   ]
  },
  {
   "cell_type": "code",
   "execution_count": 5,
   "metadata": {},
   "outputs": [
    {
     "data": {
      "text/plain": [
       "TensorShape([Dimension(2), Dimension(3)])"
      ]
     },
     "execution_count": 5,
     "metadata": {},
     "output_type": "execute_result"
    }
   ],
   "source": [
    "matrix.get_shape()"
   ]
  },
  {
   "cell_type": "code",
   "execution_count": 6,
   "metadata": {},
   "outputs": [
    {
     "data": {
      "text/plain": [
       "TensorShape([Dimension(3), Dimension(3), Dimension(1)])"
      ]
     },
     "execution_count": 6,
     "metadata": {},
     "output_type": "execute_result"
    }
   ],
   "source": [
    "cube_matrix.get_shape()"
   ]
  },
  {
   "cell_type": "markdown",
   "metadata": {},
   "source": [
    "### 2.10.3 数据类型\n",
    "\n",
    "除了阶和形状，张量还具有数据类型。表2-1是张量的数据类型汇总表。"
   ]
  },
  {
   "cell_type": "markdown",
   "metadata": {},
   "source": [
    "表2-1 张量的数据类型\n",
    "\n",
    "|数据类型| Python表示| 描 述|\n",
    "|:|:|:|\n",
    "|DT_FLOAT| tf.float32| 32位浮点型|\n",
    "|DT_DOUBLE| tf.float64| 64位浮点型|\n",
    "|DT_INT8| tf.int8| 8位有符号整型|\n",
    "|DT_INT16| tf.int16| 16位有符号整型|\n",
    "|DT_INT32| tf.int32| 32位有符号整型|\n",
    "|DT_INT64| tf.int64| 64位有符号整型|\n",
    "|DT_UINT8| tf.uint8| 8位无符号整型|\n",
    "|DT_STRING| tf.string| 可变长度的字节序列。张量中的每个元素都是一个字节序列|\n",
    "|DT_BOOL| tf.bool| 布尔型|\n",
    "|DT_COMPLEX64| tf.complex64| 复数型，由两个32位浮点型组成，分别作为实部和虚部|\n",
    "|DT_COMPLEX128| tf.complex128| 复数型，由两个64位浮点型组成，分别作为实部和虚部|\n",
    "|DT_QINT8| tf.qint8| 8位有符号整型，在量化型op中使用|\n",
    "|DT_QINT32| tf.qint32| 32位有符号整型，在量化型op中使用|\n",
    "|DT_QUINT8| tf.quint8| 8位无符号整型，在量化型op中使用|"
   ]
  },
  {
   "cell_type": "markdown",
   "metadata": {},
   "source": [
    "注意，TensorFlow中数据的传递需要通过其API与NumPy数组的交互来完成。"
   ]
  },
  {
   "cell_type": "markdown",
   "metadata": {},
   "source": [
    "若要使用**常数**构建张量，需要将一个NumPy数组传入tf.constant()操作符，得到一个拥有该值的TensorFlow张量。"
   ]
  },
  {
   "cell_type": "code",
   "execution_count": 7,
   "metadata": {},
   "outputs": [
    {
     "name": "stdout",
     "output_type": "stream",
     "text": [
      "(10,)\n",
      "[ 1  2  3  4  5  6  7  8  9 10]\n"
     ]
    }
   ],
   "source": [
    "import tensorflow as tf\n",
    "import numpy as np\n",
    "\n",
    "tensor_1d = np.array([1,2,3,4,5,6,7,8,9,10])\n",
    "tensor_1d = tf.constant(tensor_1d)\n",
    "\n",
    "with tf.Session() as sess:\n",
    "    print (tensor_1d.get_shape())\n",
    "    print (sess.run(tensor_1d))"
   ]
  },
  {
   "cell_type": "markdown",
   "metadata": {},
   "source": [
    "若要使用**变量**构建张量，将变量定义为NumPy数组的形式，并将其传入`tf.Variable`函数。结果得到一个带有初始值的变量张量。"
   ]
  },
  {
   "cell_type": "code",
   "execution_count": 8,
   "metadata": {},
   "outputs": [
    {
     "name": "stdout",
     "output_type": "stream",
     "text": [
      "(3, 3)\n",
      "[[1 2 3]\n",
      " [4 5 6]\n",
      " [7 8 9]]\n"
     ]
    }
   ],
   "source": [
    "import tensorflow as tf\n",
    "import numpy as np\n",
    "\n",
    "tensor_2d = np.array([(1,2,3),(4,5,6),(7,8,9)])\n",
    "tensor_2d = tf.Variable(tensor_2d)\n",
    "\n",
    "with tf.Session() as sess:\n",
    "    sess.run(tf.global_variables_initializer())\n",
    "    print(tensor_2d.get_shape())\n",
    "    print(sess.run(tensor_2d))"
   ]
  },
  {
   "cell_type": "markdown",
   "metadata": {},
   "source": [
    "为方便程序在Python交互环境下的使用，可以采用[InteractiveSession类](https://www.tensorflow.org/versions/r0.10/api_docs/python/client/#InteractiveSession)，并在所有`Tensor.eval()`和`Operation.run()`调用中使用该类。"
   ]
  },
  {
   "cell_type": "code",
   "execution_count": 9,
   "metadata": {},
   "outputs": [
    {
     "name": "stdout",
     "output_type": "stream",
     "text": [
      "[1 2 3 4 5]\n"
     ]
    }
   ],
   "source": [
    "import tensorflow as tf\n",
    "import numpy as np\n",
    "\n",
    "interactive_session = tf.InteractiveSession()    # 创建InteractiveSession\n",
    "\n",
    "tensor = np.array([1,2,3,4,5])\n",
    "tensor = tf.constant(tensor)\n",
    "\n",
    "print(tensor.eval())\n",
    "\n",
    "interactive_session.close()    # 关闭InteractiveSession"
   ]
  },
  {
   "cell_type": "markdown",
   "metadata": {},
   "source": [
    "这个类为交互情境下（如shell或IPython Notebook）的使用提供了方便——编写代码时无需不停地传递Session对象。"
   ]
  },
  {
   "cell_type": "markdown",
   "metadata": {},
   "source": [
    "TensorFlow中另一种定义张量的方式是，使用`tf.conbert_to_tensor`命令"
   ]
  },
  {
   "cell_type": "code",
   "execution_count": 10,
   "metadata": {},
   "outputs": [
    {
     "name": "stdout",
     "output_type": "stream",
     "text": [
      "(3, 3, 3)\n",
      "[[[ 0.  1.  2.]\n",
      "  [ 3.  4.  5.]\n",
      "  [ 6.  7.  8.]]\n",
      "\n",
      " [[ 9. 10. 11.]\n",
      "  [12. 13. 14.]\n",
      "  [15. 16. 17.]]\n",
      "\n",
      " [[18. 19. 20.]\n",
      "  [21. 22. 23.]\n",
      "  [24. 25. 26.]]]\n"
     ]
    }
   ],
   "source": [
    "import tensorflow as tf\n",
    "import numpy as np\n",
    "\n",
    "tensor_3d = np.array([[[ 0, 1, 2],[ 3, 4, 5],[ 6, 7, 8]],\n",
    "                      [[ 9, 10, 11],[12, 13, 14],[15, 16, 17]],\n",
    "                      [[18, 19, 20],[21, 22, 23],[24, 25, 26]]])\n",
    "\n",
    "tensor_3d = tf.convert_to_tensor(tensor_3d, dtype=tf.float64)    # 名称和类型\n",
    "\n",
    "with tf.Session() as sess:\n",
    "    print (tensor_3d.get_shape())\n",
    "    print (sess.run(tensor_3d))"
   ]
  },
  {
   "cell_type": "markdown",
   "metadata": {},
   "source": [
    "### 2.10.4 变量"
   ]
  },
  {
   "cell_type": "markdown",
   "metadata": {},
   "source": [
    "TensorFlow中的变量是承载和更新参数的对象。变量必须初始化；当然，你也可以保存或恢复变量，用于代码分析。"
   ]
  },
  {
   "cell_type": "code",
   "execution_count": 11,
   "metadata": {},
   "outputs": [
    {
     "name": "stdout",
     "output_type": "stream",
     "text": [
      "0\n",
      "1\n",
      "2\n",
      "3\n",
      "4\n",
      "5\n",
      "6\n",
      "7\n",
      "8\n",
      "9\n",
      "10\n"
     ]
    }
   ],
   "source": [
    "# 实现从1数到10\n",
    "import tensorflow as tf\n",
    "\n",
    "value = tf.Variable(0,name=\"value\")    # 创建一个变量，并将其初始化为标量0\n",
    "\n",
    "# assign()和add()操作符仅仅是计算图上的节点，所以在会话运行之前，它们不会执行\n",
    "one = tf.constant(1)\n",
    "new_value = tf.add(value,one)    # 定义加法操作\n",
    "update_value=tf.assign(value,new_value)\n",
    "initialize_var = tf.global_variables_initializer()    # 变量必须初始化\n",
    "\n",
    "# 可以将计算图实例化\n",
    "with tf.Session() as sess:\n",
    "    sess.run(initialize_var)\n",
    "    print(sess.run(value))    # 第一个0是在这里打印的\n",
    "    for _ in range(10):\n",
    "        sess.run(update_value)\n",
    "        print(sess.run(value))    # 打印从1-10"
   ]
  },
  {
   "cell_type": "markdown",
   "metadata": {},
   "source": [
    "张量对象是指向操作结果的一个指针，并非真的含有操作的输出值"
   ]
  },
  {
   "cell_type": "markdown",
   "metadata": {},
   "source": [
    "### 2.10.5 取回"
   ]
  },
  {
   "cell_type": "markdown",
   "metadata": {},
   "source": [
    "为取回操作的输出，需要调用Session对象中的`run()`函数，并传入需要取回的张量。除了可以取回单一的张量节点外，你还可以取回多个张量。"
   ]
  },
  {
   "cell_type": "code",
   "execution_count": 12,
   "metadata": {},
   "outputs": [
    {
     "name": "stdout",
     "output_type": "stream",
     "text": [
      "[array([400.], dtype=float32), array([300.], dtype=float32)]\n"
     ]
    }
   ],
   "source": [
    "import tensorflow as tf\n",
    "\n",
    "constant_A = tf.constant([100.0])\n",
    "constant_B = tf.constant([300.0])\n",
    "constant_C = tf.constant([3.0])\n",
    "\n",
    "sum_ = tf.add(constant_A,constant_B)\n",
    "mul_ = tf.multiply(constant_A,constant_C)\n",
    "\n",
    "with tf.Session() as sess:\n",
    "    result = sess.run([sum_,mul_])    # 一次取回两个值\n",
    "    print(result)"
   ]
  },
  {
   "cell_type": "markdown",
   "metadata": {},
   "source": [
    "产生张量输出值需要的所有op都被运行了一遍（而不仅仅是每个张量运行一遍）。"
   ]
  },
  {
   "cell_type": "markdown",
   "metadata": {},
   "source": [
    "### 2.10.6 注入\n",
    "\n",
    "注入机制将张量插入图节点，它用一个张量值暂时替代操作的输出。注入机制只用于在调用run函数时，通过feed_dict传递参数。最常见的用法是使用`tf.placeholder()`创建feed操作，并继承其他特定操作作为注入操作。"
   ]
  },
  {
   "cell_type": "code",
   "execution_count": 13,
   "metadata": {},
   "outputs": [
    {
     "name": "stdout",
     "output_type": "stream",
     "text": [
      "[[0.5822009  0.30065745]\n",
      " [1.5465575  0.89457905]\n",
      " [0.29138425 0.6645689 ]]\n"
     ]
    }
   ],
   "source": [
    "import tensorflow as tf\n",
    "import numpy as np\n",
    "\n",
    "a = 3\n",
    "b = 2\n",
    "x = tf.placeholder(tf.float32,shape=(a,b))    # 类型, 形状\n",
    "y = tf.add(x,x)\n",
    "\n",
    "data = np.random.rand(a,b)\n",
    "sess = tf.Session()\n",
    "print (sess.run(y,feed_dict={x:data}))"
   ]
  },
  {
   "cell_type": "markdown",
   "metadata": {},
   "source": [
    "## 2.12 实现一个单输入神经元"
   ]
  },
  {
   "cell_type": "markdown",
   "metadata": {},
   "source": [
    "<img style=\"float: right;\" src=\"whatever.jpg\" width=\"50%\" height=\"50%\">\n",
    "<img style=\"float: right;\" src=\"https://timgsa.baidu.com/7367767334589.png\" width=\"50%\" height=\"50%\">\n",
    "<img style=\"float: right;\" src=\"whatever.jpg\" style=\"width:100px;height:100px;float:left\">\n",
    "![2.jpg](attachment:2.jpg)\n"
   ]
  },
  {
   "attachments": {},
   "cell_type": "markdown",
   "metadata": {},
   "source": [
    "将要实现的模型模拟了一个单输入神经元，该模型的形式可参考图\n",
    "<img style=\"float: right;\" src=\"./imgs/2.jpg\" style=\"width:20%;height:20%;float:left\">"
   ]
  },
  {
   "cell_type": "code",
   "execution_count": 14,
   "metadata": {},
   "outputs": [],
   "source": [
    "input_value = tf.constant(0.5,name=\"input_value\") "
   ]
  },
  {
   "cell_type": "code",
   "execution_count": 15,
   "metadata": {},
   "outputs": [],
   "source": [
    "import tensorflow as tf\n",
    "\n",
    "input_value = tf.constant(0.5,name=\"input_value\") # 定义input_value，赋值为浮点数0.5\n",
    "# 权重是传递给单神经元的输入，在训练阶段会改变，需要用TensorFlow的变量型来定义\n",
    "weight = tf.Variable(1.0,name=\"weight\")\n",
    "# 期望值指的是完成网络的学习后，我们期望得到的输出值。定义为一个TensorFlow常量\n",
    "expected_output = tf.constant(0.0,name=\"expected_output\") \n",
    "\n",
    "# 我们想要计算的模型或输出为下面的乘积，即weight × input。\n",
    "model = tf.multiply(input_value,weight,\"model\")\n",
    "\n",
    "# 最基本的部分——我们需要告诉神经元应该如何学习。\n",
    "# 第一个关键是要定义一个度量标准，即得到的输出与期望输出差距有多少。\n",
    "# 这个度量标准就是所谓的损失函数。\n",
    "loss_function = tf.pow(expected_output - model,2,name=\"loss_function\")\n",
    "# 我们必须想办法在神经元的训练阶段优化损失函数或最小化它的值。\n",
    "# TensorFlow中有好几种优化函数。本例采用梯度下降法\n",
    "optimizer = tf.train.GradientDescentOptimizer(0.025).minimize(loss_function)\n",
    "\n",
    "# 使用TensorBoard。汇总的定义包括一个简单的设置步骤，其中定义了我们希望显示的参数。\n",
    "# tf.summary.scarlar变量输出一个summary记录，以缓冲对应标量的值\n",
    "for value in [input_value,weight,expected_output,model,loss_function]:\n",
    "    tf.summary.scalar(value.op.name,value)    # (汇总的标签, 一个实数张量作为汇总的值)\n",
    "# 将计算图中收集到的所有汇总合并\n",
    "summaries = tf.summary.merge_all()\n",
    "\n",
    "# 运行计算图，创建Session会话\n",
    "sess = tf.Session()\n",
    "\n",
    "# 创建SummaryWriter，将filelog_simple_stats事件写入对应的汇总记录\n",
    "summary_writer = tf.summary.FileWriter('log_simple_stats',sess.graph)\n",
    "\n",
    "sess.run(tf.global_variables_initializer())    # 运行该模型\n",
    "\n",
    "# 我们进行了100次模拟，每次模拟都会监控summary_writer中定义的参数\n",
    "for i in range(100):\n",
    "    summary_writer.add_summary(sess.run(summaries),i)\n",
    "    sess.run(optimizer)"
   ]
  },
  {
   "cell_type": "markdown",
   "metadata": {},
   "source": [
    "SummaryWriter类提供了一种机制，用于在每条路径中创建事件记录文件，并向其中添加汇总和事件。该类对文件内容的更新是非同步的。这就使训练程序得以调用方法，在训练过程中直接向日志文件添加数据，而不需要因此放慢训练过程。"
   ]
  },
  {
   "cell_type": "code",
   "execution_count": 16,
   "metadata": {},
   "outputs": [],
   "source": [
    "# 运行TensorBoard十分简单\n",
    "# !tensorboard --logdir=log_simple_stats"
   ]
  },
  {
   "cell_type": "code",
   "execution_count": null,
   "metadata": {},
   "outputs": [],
   "source": []
  },
  {
   "cell_type": "code",
   "execution_count": null,
   "metadata": {},
   "outputs": [],
   "source": []
  }
 ],
 "metadata": {
  "kernelspec": {
   "display_name": "GPU",
   "language": "python",
   "name": "myenv"
  },
  "language_info": {
   "codemirror_mode": {
    "name": "ipython",
    "version": 3
   },
   "file_extension": ".py",
   "mimetype": "text/x-python",
   "name": "python",
   "nbconvert_exporter": "python",
   "pygments_lexer": "ipython3",
   "version": "3.5.6"
  }
 },
 "nbformat": 4,
 "nbformat_minor": 2
}
