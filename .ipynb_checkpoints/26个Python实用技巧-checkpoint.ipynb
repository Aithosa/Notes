{
 "cells": [
  {
   "cell_type": "markdown",
   "metadata": {},
   "source": [
    "# 26个Python实用技巧"
   ]
  },
  {
   "cell_type": "markdown",
   "metadata": {},
   "source": [
    "这些技巧中的大多数是我在日常工作中使用的或者偶然发现的。其中有一些，是我在浏览 Python 标准库时发现的。另外还有一些是通过在 PyPi 中搜索得到的。\n",
    "\n",
    "> PyPI（Python Package Index）是 Python 官方的第三方库的仓库，所有人都可以下载第三方库或上传自己开发的库到 PyPI。\n",
    "> <br>PyPI 推荐使用 pip 包管理器来下载第三方库。\n",
    "> <br>https://docs.python.org/3/library/\n",
    "> <br>https://pypi.org/search/\n",
    "\n",
    "有一家网站非常值得赞赏：Awesome Python，我在这上面发现了四五个技巧。这是一个非常值得浏览的精选列表，收录了数百个有趣的 Python 工具和模块，有助于激发你的灵感！\n",
    "> Awesome Python 由 vinta 发起和维护。内容包括：Web 框架、网络爬虫、网络内容提取、模板引擎、数据库、数据可视化、图片处理、文本处理、自然语言处理、机器学习、日志、代码分析等。\n",
    "> <br>中文版： https://github.com/jobbole/awesome-python-cn\n",
    "> <br>英文版：https://awesome-python.com/"
   ]
  },
  {
   "cell_type": "markdown",
   "metadata": {},
   "source": [
    "### all 或 any"
   ]
  },
  {
   "cell_type": "markdown",
   "metadata": {},
   "source": [
    "Python 如此受欢迎，原因之一是因为它具有可读性和可表达性。\n",
    "\n",
    "人们经常开玩笑说 Python 是“可执行的伪代码”，但是当你可以这样编写代码时，你就很难反驳了。"
   ]
  },
  {
   "cell_type": "code",
   "execution_count": 1,
   "metadata": {},
   "outputs": [
    {
     "name": "stdout",
     "output_type": "stream",
     "text": [
      "At least one True\n",
      "At least one True and one False\n"
     ]
    }
   ],
   "source": [
    "x = [True, True, False]\n",
    "\n",
    "if any(x):\n",
    "    print(\"At least one True\")\n",
    "if all(x):\n",
    "    print(\"Not one False\")\n",
    "if any(x) and not all(x):\n",
    "    print(\"At least one True and one False\")"
   ]
  },
  {
   "cell_type": "markdown",
   "metadata": {},
   "source": [
    "### bashplotlib"
   ]
  },
  {
   "cell_type": "markdown",
   "metadata": {},
   "source": [
    "在控制台（console）上绘制图形\n",
    "```bash\n",
    "$ pip install bashplotlib\n",
    "```"
   ]
  },
  {
   "cell_type": "markdown",
   "metadata": {},
   "source": [
    "### collections 模块"
   ]
  },
  {
   "cell_type": "markdown",
   "metadata": {},
   "source": [
    "Python 有一些很好的默认数据类型，但有时它们的行为并不完全像你所期望的那样。\n",
    "<br>幸运的是，Python 标准库提供了 collections 模块，这个方便的附加组件提供了更多的数据类型。参阅：\n",
    "> https://docs.python.org/3/library/collections.html\n",
    "\n",
    "![pic](https://mmbiz.qpic.cn/mmbiz_png/BnSNEaficFAY9px6f2s7P7VJ3z9NEh9rRqDIic9d5licaNTGT8OeiakL3tKorBPibaCeYa8PjNyf8HVlZCDztbkWQww/640?wx_fmt=png&tp=webp&wxfrom=5&wx_lazy=1&wx_co=1)"
   ]
  },
  {
   "cell_type": "code",
   "execution_count": 12,
   "metadata": {},
   "outputs": [],
   "source": [
    "from collections import OrderedDict, Counter\n",
    "\n",
    "# Remembers the order the keys are added!\n",
    "x = OrderedDict(a=1,b=2,c=3)\n",
    "\n",
    "# Counts the frequency of each character\n",
    "y = Counter(\"Hello World!\")"
   ]
  },
  {
   "cell_type": "markdown",
   "metadata": {},
   "source": [
    "### dir"
   ]
  },
  {
   "cell_type": "markdown",
   "metadata": {},
   "source": [
    "如何查看 Python 对象并查看它都有哪些属性？使用命令行："
   ]
  },
  {
   "cell_type": "code",
   "execution_count": 2,
   "metadata": {},
   "outputs": [
    {
     "data": {
      "text/plain": [
       "['In',\n",
       " 'Out',\n",
       " '_',\n",
       " '__',\n",
       " '___',\n",
       " '__builtin__',\n",
       " '__builtins__',\n",
       " '__doc__',\n",
       " '__loader__',\n",
       " '__name__',\n",
       " '__package__',\n",
       " '__spec__',\n",
       " '_dh',\n",
       " '_i',\n",
       " '_i1',\n",
       " '_i2',\n",
       " '_ih',\n",
       " '_ii',\n",
       " '_iii',\n",
       " '_oh',\n",
       " 'exit',\n",
       " 'get_ipython',\n",
       " 'quit',\n",
       " 'x']"
      ]
     },
     "execution_count": 2,
     "metadata": {},
     "output_type": "execute_result"
    }
   ],
   "source": [
    "dir()"
   ]
  },
  {
   "cell_type": "code",
   "execution_count": 5,
   "metadata": {},
   "outputs": [
    {
     "data": {
      "text/plain": [
       "['__add__',\n",
       " '__class__',\n",
       " '__contains__',\n",
       " '__delattr__',\n",
       " '__dir__',\n",
       " '__doc__',\n",
       " '__eq__',\n",
       " '__format__',\n",
       " '__ge__',\n",
       " '__getattribute__',\n",
       " '__getitem__',\n",
       " '__getnewargs__',\n",
       " '__gt__',\n",
       " '__hash__',\n",
       " '__init__',\n",
       " '__iter__',\n",
       " '__le__',\n",
       " '__len__',\n",
       " '__lt__',\n",
       " '__mod__',\n",
       " '__mul__',\n",
       " '__ne__',\n",
       " '__new__',\n",
       " '__reduce__',\n",
       " '__reduce_ex__',\n",
       " '__repr__',\n",
       " '__rmod__',\n",
       " '__rmul__',\n",
       " '__setattr__',\n",
       " '__sizeof__',\n",
       " '__str__',\n",
       " '__subclasshook__',\n",
       " 'capitalize',\n",
       " 'casefold',\n",
       " 'center',\n",
       " 'count',\n",
       " 'encode',\n",
       " 'endswith',\n",
       " 'expandtabs',\n",
       " 'find',\n",
       " 'format',\n",
       " 'format_map',\n",
       " 'index',\n",
       " 'isalnum',\n",
       " 'isalpha',\n",
       " 'isdecimal',\n",
       " 'isdigit',\n",
       " 'isidentifier',\n",
       " 'islower',\n",
       " 'isnumeric',\n",
       " 'isprintable',\n",
       " 'isspace',\n",
       " 'istitle',\n",
       " 'isupper',\n",
       " 'join',\n",
       " 'ljust',\n",
       " 'lower',\n",
       " 'lstrip',\n",
       " 'maketrans',\n",
       " 'partition',\n",
       " 'replace',\n",
       " 'rfind',\n",
       " 'rindex',\n",
       " 'rjust',\n",
       " 'rpartition',\n",
       " 'rsplit',\n",
       " 'rstrip',\n",
       " 'split',\n",
       " 'splitlines',\n",
       " 'startswith',\n",
       " 'strip',\n",
       " 'swapcase',\n",
       " 'title',\n",
       " 'translate',\n",
       " 'upper',\n",
       " 'zfill']"
      ]
     },
     "execution_count": 5,
     "metadata": {},
     "output_type": "execute_result"
    }
   ],
   "source": [
    "dir(\"Hwllo word\")"
   ]
  },
  {
   "cell_type": "code",
   "execution_count": 6,
   "metadata": {},
   "outputs": [
    {
     "data": {
      "text/plain": [
       "['__call__',\n",
       " '__class__',\n",
       " '__delattr__',\n",
       " '__dir__',\n",
       " '__doc__',\n",
       " '__eq__',\n",
       " '__format__',\n",
       " '__ge__',\n",
       " '__getattribute__',\n",
       " '__gt__',\n",
       " '__hash__',\n",
       " '__init__',\n",
       " '__le__',\n",
       " '__lt__',\n",
       " '__module__',\n",
       " '__name__',\n",
       " '__ne__',\n",
       " '__new__',\n",
       " '__qualname__',\n",
       " '__reduce__',\n",
       " '__reduce_ex__',\n",
       " '__repr__',\n",
       " '__self__',\n",
       " '__setattr__',\n",
       " '__sizeof__',\n",
       " '__str__',\n",
       " '__subclasshook__',\n",
       " '__text_signature__']"
      ]
     },
     "execution_count": 6,
     "metadata": {},
     "output_type": "execute_result"
    }
   ],
   "source": [
    "dir(dir)"
   ]
  },
  {
   "cell_type": "markdown",
   "metadata": {},
   "source": [
    "当你通过交互方式来运行 Python，并动态地探索你正在使用的对象和模块时，这一功能就非常有用了。要了解更多信息请访问：\n",
    "> https://docs.python.org/3/library/functions.html#dir"
   ]
  },
  {
   "cell_type": "markdown",
   "metadata": {},
   "source": [
    "### Emoji"
   ]
  },
  {
   "cell_type": "markdown",
   "metadata": {},
   "source": [
    "如何打出 emoji 表情？参阅：\n",
    "> https://pypi.org/project/emoji/\n",
    "\n",
    "```bash\n",
    "pip install emoji\n",
    "```\n",
    "\n",
    "```pyhon\n",
    "from emoji import emojize\n",
    "print(emojize(':thumbs_up:'))\n",
    "```"
   ]
  },
  {
   "cell_type": "code",
   "execution_count": 2,
   "metadata": {},
   "outputs": [
    {
     "ename": "ImportError",
     "evalue": "No module named 'emoji'",
     "output_type": "error",
     "traceback": [
      "\u001b[1;31m---------------------------------------------------------------------------\u001b[0m",
      "\u001b[1;31mImportError\u001b[0m                               Traceback (most recent call last)",
      "\u001b[1;32m<ipython-input-2-72bbb35a83f7>\u001b[0m in \u001b[0;36m<module>\u001b[1;34m()\u001b[0m\n\u001b[1;32m----> 1\u001b[1;33m \u001b[1;32mfrom\u001b[0m \u001b[0memoji\u001b[0m \u001b[1;32mimport\u001b[0m \u001b[0memojize\u001b[0m\u001b[1;33m\u001b[0m\u001b[0m\n\u001b[0m\u001b[0;32m      2\u001b[0m \u001b[0mprint\u001b[0m\u001b[1;33m(\u001b[0m\u001b[0memojize\u001b[0m\u001b[1;33m(\u001b[0m\u001b[1;34m\":thumbs_up:\"\u001b[0m\u001b[1;33m)\u001b[0m\u001b[1;33m)\u001b[0m\u001b[1;33m\u001b[0m\u001b[0m\n",
      "\u001b[1;31mImportError\u001b[0m: No module named 'emoji'"
     ]
    }
   ],
   "source": [
    "from emoji import emojize \n",
    "print(emojize(\":thumbs_up:\"))"
   ]
  },
  {
   "cell_type": "markdown",
   "metadata": {},
   "source": [
    "### from __future__ import"
   ]
  },
  {
   "cell_type": "markdown",
   "metadata": {},
   "source": [
    "Python 如此广受欢迎还有一个原因是它总是开发新版本。要知道，新版本意味着有新功能。但你不必害怕所用的版本过时了。这个__future__模块可以让你在现有版本上导入 Python 未来版本的功能。这一特征就好像时间旅行机一样，让未来的东西穿越到现在来使用。\n",
    "![pic](https://mmbiz.qpic.cn/mmbiz_png/BnSNEaficFAY9px6f2s7P7VJ3z9NEh9rRXPqp4ibO8KmmpJHpzR1jfXJ548X3R2wialSiax5BSfbp4paKHboAMdtWw/640?wx_fmt=png&tp=webp&wxfrom=5&wx_lazy=1&wx_co=1)\n",
    "为什么不去导入花括号呢？请参见 stackoverflow 上的问答：\n",
    "> https://stackoverflow.com/questions/17811855/syntax-error-not-a-chance"
   ]
  },
  {
   "cell_type": "markdown",
   "metadata": {},
   "source": [
    "### geopy 模块"
   ]
  },
  {
   "cell_type": "markdown",
   "metadata": {},
   "source": [
    "对程序员来说，地理环境可能是一个具有挑战性的领域。但是，有了 geopy 模块，这一切就都变得简单了。参阅：\n",
    "> https://geopy.readthedocs.io/en/latest/\n",
    "![pic](https://mmbiz.qpic.cn/mmbiz_png/BnSNEaficFAY9px6f2s7P7VJ3z9NEh9rR9hV3A9XgM7k5U372XEJaWNGPany8hnKLPCkCFa2hbCjWQF6pTeVLqA/640?wx_fmt=png&tp=webp&wxfrom=5&wx_lazy=1&wx_co=1)\n",
    "\n",
    "geopy 模块是通过抽象出一系列不同的地理编码服务的 API 来工作。它可以让你获得某一地点的完整街道地址、维度、精度甚至海拔高度。\n",
    "\n",
    "还有一个有用的距离类。它可以使用你喜欢的测量单位来计算两个位置之间的距离。\n",
    "![pic](https://mmbiz.qpic.cn/mmbiz_png/BnSNEaficFAY9px6f2s7P7VJ3z9NEh9rRLD249HibCOmfzicz9L4ZRtib5Sq16OdAhxxPgcibelos0mBXVYqLYxupJQ/640?wx_fmt=png&tp=webp&wxfrom=5&wx_lazy=1&wx_co=1)"
   ]
  },
  {
   "cell_type": "code",
   "execution_count": 1,
   "metadata": {},
   "outputs": [
    {
     "ename": "ImportError",
     "evalue": "No module named 'geopy'",
     "output_type": "error",
     "traceback": [
      "\u001b[1;31m---------------------------------------------------------------------------\u001b[0m",
      "\u001b[1;31mImportError\u001b[0m                               Traceback (most recent call last)",
      "\u001b[1;32m<ipython-input-1-2b61bd65de4c>\u001b[0m in \u001b[0;36m<module>\u001b[1;34m()\u001b[0m\n\u001b[1;32m----> 1\u001b[1;33m \u001b[1;32mfrom\u001b[0m \u001b[0mgeopy\u001b[0m \u001b[1;32mimport\u001b[0m \u001b[0mGoogleV3\u001b[0m\u001b[1;33m\u001b[0m\u001b[0m\n\u001b[0m\u001b[0;32m      2\u001b[0m \u001b[1;33m\u001b[0m\u001b[0m\n\u001b[0;32m      3\u001b[0m \u001b[0mplace\u001b[0m \u001b[1;33m=\u001b[0m \u001b[1;34m'221b Baker Street, London'\u001b[0m\u001b[1;33m\u001b[0m\u001b[0m\n\u001b[0;32m      4\u001b[0m \u001b[0mlocation\u001b[0m \u001b[1;33m=\u001b[0m \u001b[0mGoogleV3\u001b[0m\u001b[1;33m(\u001b[0m\u001b[1;33m)\u001b[0m\u001b[1;33m.\u001b[0m\u001b[0mgeocode\u001b[0m\u001b[1;33m(\u001b[0m\u001b[0mplace\u001b[0m\u001b[1;33m)\u001b[0m\u001b[1;33m\u001b[0m\u001b[0m\n\u001b[0;32m      5\u001b[0m \u001b[1;33m\u001b[0m\u001b[0m\n",
      "\u001b[1;31mImportError\u001b[0m: No module named 'geopy'"
     ]
    }
   ],
   "source": [
    "from geopy import GoogleV3\n",
    "\n",
    "place = '221b Baker Street, London'\n",
    "location = GoogleV3().geocode(place)\n",
    "\n",
    "print(location.address)\n",
    "print(location.location)"
   ]
  },
  {
   "cell_type": "markdown",
   "metadata": {},
   "source": [
    "### howdoi"
   ]
  },
  {
   "cell_type": "markdown",
   "metadata": {},
   "source": [
    "你有没有遇到过这样的困境：遇到编码的问题忘记了以前见过的解决方案，或者需要检查 StackOverflow，但又不想离开终端。\n",
    "\n",
    "要摆脱这一困境，你需要这个有用的命令行工具——howdoi，参阅：\n",
    "> https://github.com/gleitz/howdoi\n",
    "![pic](https://mmbiz.qpic.cn/mmbiz_png/BnSNEaficFAY9px6f2s7P7VJ3z9NEh9rR5Hptrx8dN22ED1OFicU8NgeExzjyfyqIA8TdOytgpGfB9httS1wFpbw/640?wx_fmt=png&tp=webp&wxfrom=5&wx_lazy=1&wx_co=1)\n",
    "\n",
    "有了 howdoi，无论你问它什么问题，它都会尽力回答。\n",
    "![pic](https://mmbiz.qpic.cn/mmbiz_png/BnSNEaficFAY9px6f2s7P7VJ3z9NEh9rRXVbpibrzXUOPcT2VcMLzRfcO7LWwE4teVQpUia3XoIkgj4zSyFq5mhHQ/640?wx_fmt=png&tp=webp&wxfrom=5&wx_lazy=1&wx_co=1)\n",
    "\n",
    "但有一点要注意的是：howdoi 是从 StackOverflow 的热门答案中抓取代码，它提供的信息可能不是最有用的。\n",
    "![pic](https://mmbiz.qpic.cn/mmbiz_png/BnSNEaficFAY9px6f2s7P7VJ3z9NEh9rR2243ficXs4ZQadYwem21OwlzsQBero2QsDBTDcY7U3LMxGnq2NdkBoA/640?wx_fmt=png&tp=webp&wxfrom=5&wx_lazy=1&wx_co=1)\n",
    "\n",
    "> Stack Overflow 是一个与程序相关的 IT 技术问答网站。用户可以在网站免费提交问题，浏览问题，索引相关内容，在创建主页的时候使用简单的 HTML。在问题页面，不会弹出任何广告，销售信息，JavaScript 窗口等。 2008 年由 Jeff Atwood 和 Joel Spolsky 创建。"
   ]
  },
  {
   "cell_type": "code",
   "execution_count": 2,
   "metadata": {},
   "outputs": [
    {
     "ename": "SyntaxError",
     "evalue": "invalid syntax (<ipython-input-2-20388b693b9a>, line 1)",
     "output_type": "error",
     "traceback": [
      "\u001b[1;36m  File \u001b[1;32m\"<ipython-input-2-20388b693b9a>\"\u001b[1;36m, line \u001b[1;32m1\u001b[0m\n\u001b[1;33m    howdoi vertical align css\u001b[0m\n\u001b[1;37m                  ^\u001b[0m\n\u001b[1;31mSyntaxError\u001b[0m\u001b[1;31m:\u001b[0m invalid syntax\n"
     ]
    }
   ],
   "source": [
    "howdoi vertical align css\n",
    "howdoi for loop in java\n",
    "howdoi undo commit in git\n",
    "howdoi exit vim"
   ]
  },
  {
   "cell_type": "markdown",
   "metadata": {},
   "source": [
    "### inspect 模块"
   ]
  },
  {
   "cell_type": "markdown",
   "metadata": {},
   "source": [
    "Python 的 inspect 模块对于理解幕后发生的事情非常有用。你甚至可以自己调用它的方法！参阅：\n",
    "> https://docs.python.org/3/library/inspect.html\n",
    "\n",
    "如下所示的代码段，使用了 inspect.getsource() 来打印自己的源代码。它还使用了 inspect.getsource() 来打印定义它的模块。\n",
    "\n",
    "最后一行代码打印出自己的行号。\n",
    "![pic](https://mmbiz.qpic.cn/mmbiz_png/BnSNEaficFAY9px6f2s7P7VJ3z9NEh9rRgBqHWecwtKDyfvtOEMr68sHpqCVqerPfrKElzibfVqibaiamoibzzd7EcA/640?wx_fmt=png&tp=webp&wxfrom=5&wx_lazy=1&wx_co=1)\n",
    "\n",
    "当然，除去这些简单的用途之外，inspect 模块对于理解代码的作用也非常有用。你也可以使用它来写自编文档代码。"
   ]
  },
  {
   "cell_type": "markdown",
   "metadata": {},
   "source": [
    "### Jedi"
   ]
  },
  {
   "cell_type": "markdown",
   "metadata": {},
   "source": [
    "Jedi 库是一个自动完成和代码分析的库。它能够使编写代码更为快速、更为高效。\n",
    "\n",
    "除非你正在开发自己的 IDE，否则你可能对使用 Jedi 作为编辑器插件最感兴趣。幸运的是，现在加载这个插件已经可以用了！不过，你可能已经用上Jedi 了。IPython 项目的代码自动完成功能就是使用Jedi来实现的。\n",
    "> https://jedi.readthedocs.io/en/latest/docs/usage.html\n",
    "\n"
   ]
  },
  {
   "cell_type": "markdown",
   "metadata": {},
   "source": [
    "### **kwargs"
   ]
  },
  {
   "cell_type": "markdown",
   "metadata": {},
   "source": [
    "在学习任何语言的过程中，都会遇到许多里程碑。使用Python，理解神秘的 **kwargs 语法可能就是其中之一。\n",
    "\n",
    "dictionary 对象前面的双星号允许您将该 dictionary 的内容作为命名参数传递给函数。详见：\n",
    "> https://docs.python.org/3/tutorial/controlflow.html#keyword-arguments\n",
    "\n",
    "dictionary 的键是参数名，值是传递给函数的值。你甚至不需要叫它 kwargs！\n",
    "![pic](https://mmbiz.qpic.cn/mmbiz_png/BnSNEaficFAY9px6f2s7P7VJ3z9NEh9rRO9G6CYeplbpH5C6G2fpuSurWlmX7cdlDMerV2fe6N7QpPNklib1nKrg/640?wx_fmt=png&tp=webp&wxfrom=5&wx_lazy=1&wx_co=1)\n",
    "\n",
    "当你想编写可以处理未预先定义的命名参数的函数时，这就非常有用了。"
   ]
  },
  {
   "cell_type": "markdown",
   "metadata": {},
   "source": [
    "### List Comprehensions"
   ]
  },
  {
   "cell_type": "markdown",
   "metadata": {},
   "source": [
    "关于 Python 编程，我最喜欢的事情之一是它的列表生成式（List Comprehensions），参见：\n",
    "> https://docs.python.org/3/tutorial/datastructures.html#list-comprehensions\n",
    "\n",
    "这些表达式可以很容易编写出简洁的代码，读起来几乎就像自然语言一样。你可以访问下面的网址来了解 List Comprehensions 应该要怎么使用：\n",
    "> https://www.learnpython.org/en/List_Comprehensions\n",
    "\n",
    "![pic](https://mmbiz.qpic.cn/mmbiz_png/BnSNEaficFAY9px6f2s7P7VJ3z9NEh9rRP7JliaWe2miaZ60AsmZ6y4cqasLId0fn1FqHYPeK2XZqTY6Xm4sriaO1Q/640?wx_fmt=png&tp=webp&wxfrom=5&wx_lazy=1&wx_co=1)"
   ]
  },
  {
   "cell_type": "markdown",
   "metadata": {},
   "source": [
    "### map"
   ]
  },
  {
   "cell_type": "markdown",
   "metadata": {},
   "source": [
    "Python 是通过许多内置功能支持函数式变成。其中最有用的函数之一是 map() 函数，特别是这个函数与 lambda 函数结合使用时。参阅：\n",
    "> https://docs.python.org/3/tutorial/controlflow.html#lambda-expressions\n",
    "![pic](https://mmbiz.qpic.cn/mmbiz_png/BnSNEaficFAY9px6f2s7P7VJ3z9NEh9rRp5j2ypr5Gc9hZRloAIFJCcmwCriaRtV6jibHzeTCjLbS32m9ZDe9PZNA/640?wx_fmt=png&tp=webp&wxfrom=5&wx_lazy=1&wx_co=1)\n",
    "\n",
    "在如上所示的代码段中，map() 对每个元素 x 都应用了一个简单的 lambda 函数。它返回一个 map 对象，这个对象可以转换为某些可迭代的对象，例如 listh 或 tuple。"
   ]
  },
  {
   "cell_type": "code",
   "execution_count": 9,
   "metadata": {},
   "outputs": [
    {
     "name": "stdout",
     "output_type": "stream",
     "text": [
      "[2, 3, 4]\n"
     ]
    }
   ],
   "source": [
    "x = [1,2,3]\n",
    "y = map(lambda x:x+1,x)\n",
    "print(list(y))"
   ]
  },
  {
   "cell_type": "markdown",
   "metadata": {},
   "source": [
    "### newspaper3k 模块"
   ]
  },
  {
   "cell_type": "markdown",
   "metadata": {},
   "source": [
    "如果你还没见过它，那你见到 Python 的 newspaper 模块可不要被它震撼到了。参阅：\n",
    "> https://pypi.org/project/newspaper3k/\n",
    "\n",
    "这个模块可以让你从一系列领先的国际出版物中检索新闻文章和相关的元数据。你可以检索图像、文本和作者姓名。\n",
    "\n",
    "它甚至内置了一些 NLP 功能\n",
    "\n",
    "> 详见：\n",
    "> https://newspaper.readthedocs.io/en/latest/user_guide/quickstart.html#performing-nlp-on-an-article\n",
    "\n",
    "如果你想为你的项目使用 BeautifulSoup 或其他一些自己打造的 webscraping 库，你可以用 `$ pip install newspaper3k` 为你节省时间和精力。"
   ]
  },
  {
   "cell_type": "markdown",
   "metadata": {},
   "source": [
    "### Operator overloading"
   ]
  },
  {
   "cell_type": "markdown",
   "metadata": {},
   "source": [
    "Python 提供了对运算符重载的支持。\n",
    "\n",
    "> 详见：\n",
    "> https://docs.python.org/3/reference/datamodel.html#special-method-names\n",
    "\n",
    "其实这是一个简单的概念。有没有想过为什么 Python 允许使用 + 运算符来添加数字和连接字符串？这就是运算符重载的功劳。\n",
    "\n",
    "你可以按照自己的特定方式定义使用 Python 标准运算符符号的对象。这样，你就可以在正在使用的对象相关的上下文中使用它们。\n",
    "![pic](https://mmbiz.qpic.cn/mmbiz_png/BnSNEaficFAY9px6f2s7P7VJ3z9NEh9rRBmB5y8uQx2GE2ibubl72O8skMF1pxvDWGzFK2okj37OffnmJm0ibhf9w/640?wx_fmt=png&tp=webp&wxfrom=5&wx_lazy=1&wx_co=1)\n",
    "\n",
    "> 运算符重载（operator overloading)，简单地说，就是对已有的运算符重新进行定义，赋予其另一种功能，以适应不同的数据类型。"
   ]
  },
  {
   "cell_type": "markdown",
   "metadata": {},
   "source": [
    "### pprint"
   ]
  },
  {
   "cell_type": "markdown",
   "metadata": {},
   "source": [
    "Python 的默认 print 函数可以完成打印作业。但是如果尝试让 Python 打印任何大型的嵌套对象，打印结果会非常难看。\n",
    "\n",
    "这就要用到 Python 标准库中的 pretty-print 模块了。这个模块能够以易于阅读的格式打印出复杂的结构化对象。参阅：\n",
    "> https://docs.python.org/3/library/pprint.html\n",
    "\n",
    "这个模块对于任何使用复杂数据结构的 Python 开发者来说都是必备的。\n",
    "![pic](https://mmbiz.qpic.cn/mmbiz_png/BnSNEaficFAY9px6f2s7P7VJ3z9NEh9rRybP003M42Qh1RGTjDFlqyycNOm4v5ET9Ie5NJXc79gXz6CPMhHz7BA/640?wx_fmt=png&tp=webp&wxfrom=5&wx_lazy=1&wx_co=1)"
   ]
  },
  {
   "cell_type": "code",
   "execution_count": 5,
   "metadata": {},
   "outputs": [
    {
     "ename": "ImportError",
     "evalue": "No module named 'requests'",
     "output_type": "error",
     "traceback": [
      "\u001b[1;31m---------------------------------------------------------------------------\u001b[0m",
      "\u001b[1;31mImportError\u001b[0m                               Traceback (most recent call last)",
      "\u001b[1;32m<ipython-input-5-0d06ba9d39d8>\u001b[0m in \u001b[0;36m<module>\u001b[1;34m()\u001b[0m\n\u001b[1;32m----> 1\u001b[1;33m \u001b[1;32mimport\u001b[0m \u001b[0mrequests\u001b[0m\u001b[1;33m\u001b[0m\u001b[0m\n\u001b[0m\u001b[0;32m      2\u001b[0m \u001b[1;32mimport\u001b[0m \u001b[0mpprint\u001b[0m\u001b[1;33m\u001b[0m\u001b[0m\n\u001b[0;32m      3\u001b[0m \u001b[1;33m\u001b[0m\u001b[0m\n\u001b[0;32m      4\u001b[0m \u001b[0murl\u001b[0m \u001b[1;33m=\u001b[0m \u001b[1;34m'http://randomuser.me/api/?results=1'\u001b[0m\u001b[1;33m\u001b[0m\u001b[0m\n\u001b[0;32m      5\u001b[0m \u001b[0musers\u001b[0m \u001b[1;33m=\u001b[0m \u001b[0mrequests\u001b[0m\u001b[1;33m.\u001b[0m\u001b[0mget\u001b[0m\u001b[1;33m(\u001b[0m\u001b[0murl\u001b[0m\u001b[1;33m)\u001b[0m\u001b[1;33m.\u001b[0m\u001b[0mjson\u001b[0m\u001b[1;33m(\u001b[0m\u001b[1;33m)\u001b[0m\u001b[1;33m\u001b[0m\u001b[0m\n",
      "\u001b[1;31mImportError\u001b[0m: No module named 'requests'"
     ]
    }
   ],
   "source": [
    "import requests\n",
    "import pprint\n",
    "\n",
    "url = 'http://randomuser.me/api/?results=1'\n",
    "users = requests.get(url).json()\n",
    "\n",
    "pprint.pprint(users)"
   ]
  },
  {
   "cell_type": "markdown",
   "metadata": {},
   "source": [
    "### Queue"
   ]
  },
  {
   "cell_type": "markdown",
   "metadata": {},
   "source": [
    "Python 支持多线程，可以通过标准库的 Queue 模块来实现。\n",
    "\n",
    "这个模块可以让你实现队列数据结构。这些数据结构允许你根据特定规则添加和检索条目。\n",
    "\n",
    "“先进先出”（FIFO）队列允许你按照添加对象的次序来检索对象。“后进先出”（LIFO）队列允许你首先访问最近添加的对象。\n",
    "\n",
    "最后，优先级队列允许你根据对象的排序次序来检索对象。Python 使用队列进行多线程变成的示例可参见：\n",
    "> https://www.tutorialspoint.com/python3/python_multithreading.htm\n",
    "\n"
   ]
  },
  {
   "cell_type": "markdown",
   "metadata": {},
   "source": [
    "### `__repr__`"
   ]
  },
  {
   "cell_type": "markdown",
   "metadata": {},
   "source": [
    "在 Python 中定义类或对象时，提供一种将该对象表示为字符串的“官方”方法是很有用的。例如:\n",
    "![pic](https://mmbiz.qpic.cn/mmbiz_png/BnSNEaficFAY9MjpND9gNrEibUsNWsLFiak2Ca7JiclGXyztsCSLufggjKuXZibdNmCgxpUn7FTVrehyEV3PfSYuXOw/640?wx_fmt=png&tp=webp&wxfrom=5&wx_lazy=1&wx_co=1)\n",
    "\n",
    "这使得代码的调试变得更加容易。将其添加到你的类定义中，如下所示：\n",
    "![pic](https://mmbiz.qpic.cn/mmbiz_png/BnSNEaficFAY9MjpND9gNrEibUsNWsLFiakmSg4wGcu0wFn2YOMe5u9wOTib3sQKm9bU7OhwfqFytL6cuqpc2CANkg/640?wx_fmt=png&tp=webp&wxfrom=5&wx_lazy=1&wx_co=1)"
   ]
  },
  {
   "cell_type": "code",
   "execution_count": 7,
   "metadata": {},
   "outputs": [
    {
     "name": "stdout",
     "output_type": "stream",
     "text": [
      "<some description here>\n"
     ]
    }
   ],
   "source": [
    "class someClass:\n",
    "    def __repr__(self):\n",
    "        return \"<some description here>\"\n",
    "\n",
    "someinstance = someClass()\n",
    "\n",
    "print(someinstance)"
   ]
  },
  {
   "cell_type": "markdown",
   "metadata": {},
   "source": [
    "### sh"
   ]
  },
  {
   "cell_type": "markdown",
   "metadata": {},
   "source": [
    "Python 是一种很棒的脚本语言，但有时候使用标准的操作系统和子进程库会让人有点头疼。\n",
    "\n",
    "sh 库提供了一个简洁的替代方法。\n",
    "> http://amoffat.github.io/sh\n",
    "\n",
    "sh 库允许你像普通函数一样调用任何程序，这点对于自动化工作流和任务非常有用，所有这些都来自 Python 内部。\n",
    "![pic](https://mmbiz.qpic.cn/mmbiz_png/BnSNEaficFAY9MjpND9gNrEibUsNWsLFiak1yRuNxgqT6tgZJd3uNlZbzsTaMFWRibu38mZUvNnnZLtKO4Us1ichllg/640?wx_fmt=png&tp=webp&wxfrom=5&wx_lazy=1&wx_co=1)"
   ]
  },
  {
   "cell_type": "code",
   "execution_count": 9,
   "metadata": {},
   "outputs": [
    {
     "ename": "ImportError",
     "evalue": "No module named 'sh'",
     "output_type": "error",
     "traceback": [
      "\u001b[1;31m---------------------------------------------------------------------------\u001b[0m",
      "\u001b[1;31mImportError\u001b[0m                               Traceback (most recent call last)",
      "\u001b[1;32m<ipython-input-9-d3621e74206f>\u001b[0m in \u001b[0;36m<module>\u001b[1;34m()\u001b[0m\n\u001b[1;32m----> 1\u001b[1;33m \u001b[1;32mfrom\u001b[0m \u001b[0msh\u001b[0m \u001b[1;32mimport\u001b[0m \u001b[1;33m*\u001b[0m\u001b[1;33m\u001b[0m\u001b[0m\n\u001b[0m\u001b[0;32m      2\u001b[0m \u001b[1;33m\u001b[0m\u001b[0m\n\u001b[0;32m      3\u001b[0m \u001b[0msh\u001b[0m\u001b[1;33m.\u001b[0m\u001b[0mpwd\u001b[0m\u001b[1;33m(\u001b[0m\u001b[1;33m)\u001b[0m\u001b[1;33m\u001b[0m\u001b[0m\n\u001b[0;32m      4\u001b[0m \u001b[1;31m# sh.mkdir('new_folder')\u001b[0m\u001b[1;33m\u001b[0m\u001b[1;33m\u001b[0m\u001b[0m\n\u001b[0;32m      5\u001b[0m \u001b[1;31m# sh.touch('new_file.txt')\u001b[0m\u001b[1;33m\u001b[0m\u001b[1;33m\u001b[0m\u001b[0m\n",
      "\u001b[1;31mImportError\u001b[0m: No module named 'sh'"
     ]
    }
   ],
   "source": [
    "from sh import *\n",
    "\n",
    "sh.pwd()\n",
    "# sh.mkdir('new_folder')\n",
    "# sh.touch('new_file.txt')\n",
    "sh.whoani()\n",
    "sh.echo('This is great!')"
   ]
  },
  {
   "cell_type": "markdown",
   "metadata": {},
   "source": [
    "### Type hints"
   ]
  },
  {
   "cell_type": "markdown",
   "metadata": {},
   "source": [
    "Python 是一种动态类型的语言。在定义变量、函数、类等时，不需要指定数据类型。\n",
    "\n",
    "这一特性让开发者能够快速开发项目。但是，很少有比简单的输入问题导致的运行时错误更烦人的事情了。\n",
    "\n",
    "从 Python 3.5 开始，你就可以选择在定义函数时提供 type hintsl 。详见：\n",
    "> https://docs.python.org/3/library/typing.html\n",
    "\n",
    "![pic](https://mmbiz.qpic.cn/mmbiz_png/BnSNEaficFAY9MjpND9gNrEibUsNWsLFiakYt4In5gywzz92e5MSMq4rL2ZyBkxyUNAtPHH4CWRJsM4LNiadDTOdIw/640?wx_fmt=png&tp=webp&wxfrom=5&wx_lazy=1&wx_co=1)\n",
    "\n",
    "你可以这样定义类型别名：\n",
    "![pic](https://mmbiz.qpic.cn/mmbiz_png/BnSNEaficFAY9MjpND9gNrEibUsNWsLFiakRwKwzhsKC8LyEKmKzmahaMvdd4bmBicJADT5vGssxicHqbCeeNWlE6IA/640?wx_fmt=png&tp=webp&wxfrom=5&wx_lazy=1&wx_co=1)\n",
    "\n",
    "虽然定义类型别名不是强制性的，但是类型注释可以让你的代码更容易理解。\n",
    "\n",
    "它们还允许你使用类型检查工具在运行时之前捕获那些零散的 TypeErrors。如果你正在开发大型复杂的项目，那么这很可能是值得一试的！"
   ]
  },
  {
   "cell_type": "markdown",
   "metadata": {},
   "source": [
    "### uuid"
   ]
  },
  {
   "cell_type": "markdown",
   "metadata": {},
   "source": [
    "通过 Python 标准库的 uuid 模块，可以快速简单地生成通用唯一 ID(或“uuid”)。详见：\n",
    "> https://docs.python.org/3/library/uuid.html\n",
    "\n",
    "![pic](https://mmbiz.qpic.cn/mmbiz_png/BnSNEaficFAY9MjpND9gNrEibUsNWsLFiakic0BPZlfBqCDLyrT2kU3v0icyCZvv6N1u15j59zpgcR7eWn9dyaxBJzA/640?wx_fmt=png&tp=webp&wxfrom=5&wx_lazy=1&wx_co=1)\n",
    "\n",
    "uuid 模块会创建一个随机的 128 位数字，几乎可以肯定是唯一的。\n",
    "\n",
    "实际上，可以生成超过 $2^{122}$ 个可能 UUID，这一数字超过了5,000,000,000,000,000,000,000,000,000,000,000,000（数字 5 后面有 36 个数字 0）。\n",
    "\n",
    "在给定的集合中找到重复的概率非常低。即使有一万亿的 uuid，重复存在的概率也远远小于十亿分之一。\n",
    "\n",
    "用两行代码就实现了，还是很不错的。\n",
    "> uuid 是通用唯一识别码（Universally Unique Identifier）的缩写，是一种软件建构的标准，亦为开放软件基金会组织在分布式计算环境领域的一部分。其目的是让分布式系统中的所有元素，都能有唯一的辨识信息，而不需要通过中央控制端来做辨识信息的指定。如此一来，每个人都可以创建不与其它人冲突的uuid。在这样的情况下，就不需考虑数据库创建时的名称重复问题。"
   ]
  },
  {
   "cell_type": "markdown",
   "metadata": {},
   "source": [
    "### Virtual environments"
   ]
  },
  {
   "cell_type": "markdown",
   "metadata": {},
   "source": [
    "这可能是 Python 中我最喜欢的部分了。\n",
    "\n",
    "你有可能同时会处理多个 Python 项目。然而不幸的是，有时两个项目会依赖于相同依赖关系的不同版本。你在系统上都安装了哪些版本的依赖关系呢？\n",
    "\n",
    "幸运的是，Python 对虚拟环境的支持，参见：\n",
    "> https://docs.python.org/3/tutorial/venv.html\n",
    "\n",
    "可以让你充分这两个项目的优点。在命令行输入如下内容：\n",
    "![pic](https://mmbiz.qpic.cn/mmbiz_png/BnSNEaficFAY9MjpND9gNrEibUsNWsLFiakRb0TYEaic1kk8icuD4ia9O3EsTKGpNYZE14Efo8SNfHp35UaGnE310zYw/640?wx_fmt=png&tp=webp&wxfrom=5&wx_lazy=1&wx_co=1)\n",
    "\n",
    "现在，你可以在同一台机器上安装、运行Python不同的独立版本。"
   ]
  },
  {
   "cell_type": "markdown",
   "metadata": {},
   "source": [
    "### wikipedia"
   ]
  },
  {
   "cell_type": "markdown",
   "metadata": {},
   "source": [
    "Wikipedia 有一个很棒的 API，它允许用户通过编程方式访问无与伦比的、完全免费的知识和信息。\n",
    "\n",
    "wikipedia 模块使访问这个 API 变得非常方便。\n",
    "> https://wikipedia.readthedocs.io/en/latest/quickstart.html\n",
    "\n",
    "与真实网站一样，该模块支持多种语言、页面消歧、随机页面检索，甚至还有 `donate()` 方法。\n",
    "![pic](https://mmbiz.qpic.cn/mmbiz_png/BnSNEaficFAY9MjpND9gNrEibUsNWsLFiakhF326wwz8YWQz6LL5DRA7ia5aov650h2LO6I0X6PnDgmzbU6XrFULvw/640?wx_fmt=png&tp=webp&wxfrom=5&wx_lazy=1&wx_co=1)\n",
    "\n",
    "译注： Wikipedia，是一个基于维基技术的多语言百科全书协作计划，用多种语言编写的网络百科全书。"
   ]
  },
  {
   "cell_type": "markdown",
   "metadata": {},
   "source": [
    "### xkcd"
   ]
  },
  {
   "cell_type": "markdown",
   "metadata": {},
   "source": [
    "幽默是 Python 语言的一个重要特征——毕竟，它是以英国喜剧小品节目 Monty Python 的飞行马戏团命名的。Python 的许多官方文档都参考了该剧最著名的短剧。详见：\n",
    "> https://en.wikipedia.org/wiki/Monty_Python%27s_Flying_Circus\n",
    "\n",
    "然而，这些幽默并不局限于文档，试一试下面的运行方式：\n",
    "![pic](https://mmbiz.qpic.cn/mmbiz_png/BnSNEaficFAY9MjpND9gNrEibUsNWsLFiakiaUTZaib9lianNXCib8YagBHiaHJx087oloSkqL0wXO1RsNiccpGVYXR8uAA/640?wx_fmt=png&tp=webp&wxfrom=5&wx_lazy=1&wx_co=1)\n",
    "\n",
    "绝不改变，Python。永不改变。"
   ]
  },
  {
   "cell_type": "code",
   "execution_count": 10,
   "metadata": {},
   "outputs": [],
   "source": [
    "import antigravity"
   ]
  },
  {
   "cell_type": "markdown",
   "metadata": {},
   "source": [
    "### YAML"
   ]
  },
  {
   "cell_type": "markdown",
   "metadata": {},
   "source": [
    "YAML 代表的是“YAML Ain’t Markup Language”，它是一种数据格式化语言，是 JSON 的超集。详见：\n",
    "> http://yaml.org/\n",
    "\n",
    "与 JSON 不同，它可以存储更复杂的对象并引用自己的元素。你还可以编写注释，使其特别适合于编写配置文件。\n",
    "\n",
    "PyYAML 模块允许你在 Python 中使用 YAML。先安装 PyYAML：\n",
    "![pic](https://mmbiz.qpic.cn/mmbiz_png/BnSNEaficFAY9MjpND9gNrEibUsNWsLFiaktTMODAvqWykXyHa6coeiaEkrMOSfpDZGFxpx9MuyNNzicLbK2AnvJXbw/640?wx_fmt=png&tp=webp&wxfrom=5&wx_lazy=1&wx_co=1)\n",
    "\n",
    "然后导入到你的项目中：\n",
    "![pic](https://mmbiz.qpic.cn/mmbiz_png/BnSNEaficFAY9MjpND9gNrEibUsNWsLFiakgmoX1EQd1xRAEMyrWE617OAzBib9yYQiaPYRLj0BttEQmM6iaia6QUa0Tg/640?wx_fmt=png&tp=webp&wxfrom=5&wx_lazy=1&wx_co=1)\n",
    "\n",
    "PyYAML 允许你存储任何数据类型的 Python 对象，以及任何用户定义类的实例。\n",
    "\n",
    "> 详见：\n",
    "> <br>https://pyyaml.org/wiki/PyYAMLDocumentation \n",
    "> <br>YAML 是一种简洁的非标记语言。YAML 以数据为中心，使用空白，缩进，分行组织数据，从而使得表示更加简洁易读。它是一种直观的能够被电脑识别的数据序列化格式，是一个可读性高并且容易被人类阅读，容易和脚本语言交互，用来表达资料序列的编程语言。它是类似于标准通用标记语言的子集 XML 的数据描述语言，语法比 XML 简单很多。"
   ]
  },
  {
   "cell_type": "markdown",
   "metadata": {},
   "source": [
    "### zip"
   ]
  },
  {
   "attachments": {},
   "cell_type": "markdown",
   "metadata": {},
   "source": [
    "这是本文最后的一个技巧了，非常酷！你有没有过需要从两个列表中创建一个字典的想法呢？\n",
    "![pic](https://mmbiz.qpic.cn/mmbiz_png/BnSNEaficFAY9MjpND9gNrEibUsNWsLFiakIIF0iacTUomkdicQwy2icibcb8UCXmwyQSGicILTmXqhpQia0vkDomovicib2w/640?wx_fmt=png&tp=webp&wxfrom=5&wx_lazy=1&wx_co=1)\n",
    "\n",
    "`zip()` 内置函数接受许多可迭代对象并返回元组列表。每个元组根据对象的位置索引对其元素进行分组。\n",
    "\n",
    "你还可以通过调用 `*zip()` 来“解压缩”对象。"
   ]
  },
  {
   "cell_type": "markdown",
   "metadata": {},
   "source": [
    "> 原文链接：\n",
    "> https://medium.freecodecamp.org/an-a-z-of-useful-python-tricks-b467524ee747"
   ]
  }
 ],
 "metadata": {
  "kernelspec": {
   "display_name": "Python 3",
   "language": "python",
   "name": "python3"
  },
  "language_info": {
   "codemirror_mode": {
    "name": "ipython",
    "version": 3
   },
   "file_extension": ".py",
   "mimetype": "text/x-python",
   "name": "python",
   "nbconvert_exporter": "python",
   "pygments_lexer": "ipython3",
   "version": "3.5.6"
  }
 },
 "nbformat": 4,
 "nbformat_minor": 2
}
