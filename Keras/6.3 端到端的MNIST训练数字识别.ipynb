{
 "cells": [
  {
   "cell_type": "markdown",
   "metadata": {},
   "source": [
    "## 6.3 端到端的MNIST训练数字识别"
   ]
  },
  {
   "cell_type": "markdown",
   "metadata": {},
   "source": [
    "数据集描述：\n",
    "<br>由LeCun Yang教授和他的团队整理，囊括了6万个训练集和1万个测试集。每个样本都是32X32的像素值，并且是黑白的，要做的事把每个图片分到0-9类别中"
   ]
  },
  {
   "cell_type": "markdown",
   "metadata": {},
   "source": [
    "keras自带了训练和测试数据集。数据格式都已经整理完毕，我们要做的就是搭建Keras模块，并且确保训练集和测试集的数据和模块的参数相吻合。"
   ]
  },
  {
   "cell_type": "code",
   "execution_count": 1,
   "metadata": {},
   "outputs": [
    {
     "name": "stderr",
     "output_type": "stream",
     "text": [
      "Using TensorFlow backend.\n"
     ]
    }
   ],
   "source": [
    "import numpy as np\n",
    "from keras.datasets import mnist"
   ]
  },
  {
   "cell_type": "markdown",
   "metadata": {},
   "source": [
    "引入keras的卷积模块，包括Dropout、Conv2D和Maxpooling2D。"
   ]
  },
  {
   "cell_type": "code",
   "execution_count": 2,
   "metadata": {},
   "outputs": [],
   "source": [
    "from keras.models import Sequential\n",
    "from keras.layers import Dense, Dropout, Flatten\n",
    "from keras.layers.convolutional import Conv2D, MaxPooling2D"
   ]
  },
  {
   "cell_type": "markdown",
   "metadata": {},
   "source": [
    "先读入数据："
   ]
  },
  {
   "cell_type": "code",
   "execution_count": 3,
   "metadata": {},
   "outputs": [
    {
     "name": "stdout",
     "output_type": "stream",
     "text": [
      "A local file was found, but it seems to be incomplete or outdated because the auto file hash does not match the original value of 8a61469f7ea1b51cbae51d4f78837e45 so we will re-download the data.\n",
      "Downloading data from https://s3.amazonaws.com/img-datasets/mnist.npz\n",
      "11493376/11490434 [==============================] - 12s 1us/step\n"
     ]
    }
   ],
   "source": [
    "(X_train, y_train), (X_test, y_test) = mnist.load_data()"
   ]
  },
  {
   "cell_type": "markdown",
   "metadata": {},
   "source": [
    "看一下数据集长什么样子："
   ]
  },
  {
   "cell_type": "code",
   "execution_count": 4,
   "metadata": {},
   "outputs": [
    {
     "name": "stdout",
     "output_type": "stream",
     "text": [
      "(28, 28)\n",
      "5\n"
     ]
    }
   ],
   "source": [
    "print(X_train[0].shape)\n",
    "print(y_train[0])"
   ]
  },
  {
   "cell_type": "markdown",
   "metadata": {},
   "source": [
    "可见训练数据集图像是28*28的格式，而标签类别是0-9的数字"
   ]
  },
  {
   "cell_type": "markdown",
   "metadata": {},
   "source": [
    "下面把训练集中的手写黑白字体编程标准的思维张量形式，即(样本数量，长，宽，1)，并把像素值变成浮点格式。"
   ]
  },
  {
   "cell_type": "code",
   "execution_count": 5,
   "metadata": {},
   "outputs": [],
   "source": [
    "X_train = X_train.reshape(X_train.shape[0],28,28,1).astype('float32')\n",
    "X_test = X_test.reshape(X_test.shape[0],28,28,1).astype('float32')"
   ]
  },
  {
   "cell_type": "markdown",
   "metadata": {},
   "source": [
    "由于每个像素值都是介于0-255，所以这里统一除以255，把像素值控制在0-1范围"
   ]
  },
  {
   "cell_type": "code",
   "execution_count": 6,
   "metadata": {},
   "outputs": [],
   "source": [
    "X_train /= 255\n",
    "X_test /= 255"
   ]
  },
  {
   "cell_type": "markdown",
   "metadata": {},
   "source": [
    "由于输入层需要10个节点，所以最好把目标数字0-9做成one-hot编码形式。"
   ]
  },
  {
   "cell_type": "code",
   "execution_count": 13,
   "metadata": {},
   "outputs": [],
   "source": [
    "def tran_y(y):\n",
    "    y_ohe = np.zeros(10)\n",
    "    y_ohe[y] = 1\n",
    "    return y_ohe"
   ]
  },
  {
   "cell_type": "markdown",
   "metadata": {},
   "source": [
    "把标签用one-hot编码重新表示一下"
   ]
  },
  {
   "cell_type": "code",
   "execution_count": 14,
   "metadata": {},
   "outputs": [],
   "source": [
    "y_train_ohe = np.array([tran_y(y_train[i]) for i in range(len(y_train))])\n",
    "y_test_ohe = np.array([tran_y(y_test[i]) for i in range(len(y_test))])"
   ]
  },
  {
   "cell_type": "markdown",
   "metadata": {},
   "source": [
    "接着搭建卷积神经网络"
   ]
  },
  {
   "cell_type": "code",
   "execution_count": 15,
   "metadata": {},
   "outputs": [],
   "source": [
    "model = Sequential()"
   ]
  },
  {
   "cell_type": "markdown",
   "metadata": {},
   "source": [
    "添加一层卷积层，构造64个过滤器，每个过滤器大小3*3*1。步长是1，图像四周补一圈0，并用Relu进行非线性变换。"
   ]
  },
  {
   "cell_type": "code",
   "execution_count": 16,
   "metadata": {},
   "outputs": [],
   "source": [
    "model.add(Conv2D(filters = 64, kernel_size = (3,3), strides = (1,1), padding = 'same', input_shape = (28,28,1), activation = 'relu'))"
   ]
  },
  {
   "cell_type": "markdown",
   "metadata": {},
   "source": [
    "添加一层Max Pooling，在2*2的格子里取最大值"
   ]
  },
  {
   "cell_type": "code",
   "execution_count": 17,
   "metadata": {},
   "outputs": [],
   "source": [
    "model.add(MaxPooling2D(pool_size = (2,2)))"
   ]
  },
  {
   "cell_type": "markdown",
   "metadata": {},
   "source": [
    "设立Dropout层。将dropout的概率设为0.5（也可以尝试0.2或0.3这些常用的值）"
   ]
  },
  {
   "cell_type": "code",
   "execution_count": 18,
   "metadata": {},
   "outputs": [],
   "source": [
    "model.add(Dropout(0.5))"
   ]
  },
  {
   "cell_type": "markdown",
   "metadata": {},
   "source": [
    "重复构造，搭建深度网络。"
   ]
  },
  {
   "cell_type": "code",
   "execution_count": 19,
   "metadata": {},
   "outputs": [],
   "source": [
    "model.add(Conv2D(filters = 128, kernel_size = (3,3), strides = (1,1), padding = 'same', activation = 'relu'))\n",
    "model.add(MaxPooling2D(pool_size = (2,2)))\n",
    "model.add(Dropout(0.5))\n",
    "model.add(Conv2D(filters = 256, kernel_size = (3,3), strides = (1,1), padding = 'same', activation = 'relu'))\n",
    "model.add(MaxPooling2D(pool_size = (2,2)))\n",
    "model.add(Dropout(0.5))"
   ]
  },
  {
   "cell_type": "markdown",
   "metadata": {},
   "source": [
    "把当前层节点展平。"
   ]
  },
  {
   "cell_type": "code",
   "execution_count": 20,
   "metadata": {},
   "outputs": [],
   "source": [
    "model.add(Flatten())"
   ]
  },
  {
   "cell_type": "markdown",
   "metadata": {},
   "source": [
    "构造全连接神经网络层。"
   ]
  },
  {
   "cell_type": "code",
   "execution_count": 21,
   "metadata": {},
   "outputs": [],
   "source": [
    "model.add(Dense(128,activation='relu'))\n",
    "model.add(Dense(64,activation='relu'))\n",
    "model.add(Dense(32,activation='relu'))\n",
    "model.add(Dense(10,activation='softmax'))"
   ]
  },
  {
   "cell_type": "markdown",
   "metadata": {},
   "source": [
    "最后定义损失函数，一般来说分类问题的损失函数都选择采用交叉熵(Cross Entropy)。"
   ]
  },
  {
   "cell_type": "code",
   "execution_count": 22,
   "metadata": {},
   "outputs": [],
   "source": [
    "model.compile(loss = 'categorical_crossentropy', optimizer = 'adagrad', metrics = ['accuracy'])"
   ]
  },
  {
   "cell_type": "markdown",
   "metadata": {},
   "source": [
    "放入批量样本，进行训练。"
   ]
  },
  {
   "cell_type": "code",
   "execution_count": 23,
   "metadata": {},
   "outputs": [
    {
     "name": "stdout",
     "output_type": "stream",
     "text": [
      "Train on 60000 samples, validate on 10000 samples\n",
      "Epoch 1/20\n",
      "60000/60000 [==============================] - 521s 9ms/step - loss: 1.2877 - acc: 0.5827 - val_loss: 0.5017 - val_acc: 0.8413\n",
      "Epoch 2/20\n",
      "60000/60000 [==============================] - 516s 9ms/step - loss: 0.7182 - acc: 0.7621 - val_loss: 0.3940 - val_acc: 0.8749\n",
      "Epoch 3/20\n",
      "60000/60000 [==============================] - 514s 9ms/step - loss: 0.6045 - acc: 0.8018 - val_loss: 0.3380 - val_acc: 0.8946\n",
      "Epoch 4/20\n",
      "60000/60000 [==============================] - 514s 9ms/step - loss: 0.5363 - acc: 0.8226 - val_loss: 0.3074 - val_acc: 0.9019\n",
      "Epoch 5/20\n",
      "60000/60000 [==============================] - 552s 9ms/step - loss: 0.4970 - acc: 0.8374 - val_loss: 0.2730 - val_acc: 0.9164\n",
      "Epoch 6/20\n",
      "60000/60000 [==============================] - 560s 9ms/step - loss: 0.4561 - acc: 0.8487 - val_loss: 0.2589 - val_acc: 0.9195\n",
      "Epoch 7/20\n",
      "60000/60000 [==============================] - 536s 9ms/step - loss: 0.4231 - acc: 0.8625 - val_loss: 0.2382 - val_acc: 0.9278\n",
      "Epoch 8/20\n",
      "60000/60000 [==============================] - 552s 9ms/step - loss: 0.4004 - acc: 0.8681 - val_loss: 0.2211 - val_acc: 0.9334\n",
      "Epoch 9/20\n",
      "60000/60000 [==============================] - 551s 9ms/step - loss: 0.3861 - acc: 0.8730 - val_loss: 0.2059 - val_acc: 0.9398\n",
      "Epoch 10/20\n",
      "60000/60000 [==============================] - 530s 9ms/step - loss: 0.3657 - acc: 0.8809 - val_loss: 0.1966 - val_acc: 0.9386\n",
      "Epoch 11/20\n",
      "60000/60000 [==============================] - 540s 9ms/step - loss: 0.3502 - acc: 0.8854 - val_loss: 0.1871 - val_acc: 0.9402\n",
      "Epoch 12/20\n",
      "60000/60000 [==============================] - 555s 9ms/step - loss: 0.3362 - acc: 0.8897 - val_loss: 0.1835 - val_acc: 0.9415\n",
      "Epoch 13/20\n",
      "60000/60000 [==============================] - 511s 9ms/step - loss: 0.3211 - acc: 0.8947 - val_loss: 0.1734 - val_acc: 0.9465\n",
      "Epoch 14/20\n",
      "60000/60000 [==============================] - 510s 8ms/step - loss: 0.3074 - acc: 0.8995 - val_loss: 0.1675 - val_acc: 0.9472\n",
      "Epoch 15/20\n",
      "60000/60000 [==============================] - 509s 8ms/step - loss: 0.2962 - acc: 0.9030 - val_loss: 0.1547 - val_acc: 0.9519\n",
      "Epoch 16/20\n",
      "60000/60000 [==============================] - 1865s 31ms/step - loss: 0.2819 - acc: 0.9093 - val_loss: 0.1542 - val_acc: 0.9533\n",
      "Epoch 17/20\n",
      "60000/60000 [==============================] - 552s 9ms/step - loss: 0.2737 - acc: 0.9098 - val_loss: 0.1488 - val_acc: 0.9527\n",
      "Epoch 18/20\n",
      "60000/60000 [==============================] - 538s 9ms/step - loss: 0.2641 - acc: 0.9144 - val_loss: 0.1401 - val_acc: 0.9572\n",
      "Epoch 19/20\n",
      "60000/60000 [==============================] - 530s 9ms/step - loss: 0.2522 - acc: 0.9184 - val_loss: 0.1288 - val_acc: 0.9595\n",
      "Epoch 20/20\n",
      "60000/60000 [==============================] - 527s 9ms/step - loss: 0.2408 - acc: 0.9210 - val_loss: 0.1263 - val_acc: 0.9593\n"
     ]
    },
    {
     "data": {
      "text/plain": [
       "<keras.callbacks.History at 0x2bb187decf8>"
      ]
     },
     "execution_count": 23,
     "metadata": {},
     "output_type": "execute_result"
    }
   ],
   "source": [
    "model.fit(X_train, y_train_ohe, validation_data=(X_test,y_test_ohe), epochs=20, batch_size=128)"
   ]
  },
  {
   "cell_type": "markdown",
   "metadata": {},
   "source": [
    "在测试集上评价模型的准确度："
   ]
  },
  {
   "cell_type": "code",
   "execution_count": 24,
   "metadata": {},
   "outputs": [],
   "source": [
    "score = model.evaluate(X_test, y_test_ohe, verbose=0)"
   ]
  },
  {
   "cell_type": "markdown",
   "metadata": {},
   "source": [
    "最后获得的精确度为99.4%"
   ]
  },
  {
   "cell_type": "code",
   "execution_count": 25,
   "metadata": {},
   "outputs": [
    {
     "name": "stdout",
     "output_type": "stream",
     "text": [
      "_________________________________________________________________\n",
      "Layer (type)                 Output Shape              Param #   \n",
      "=================================================================\n",
      "conv2d_1 (Conv2D)            (None, 28, 28, 64)        640       \n",
      "_________________________________________________________________\n",
      "max_pooling2d_1 (MaxPooling2 (None, 14, 14, 64)        0         \n",
      "_________________________________________________________________\n",
      "dropout_1 (Dropout)          (None, 14, 14, 64)        0         \n",
      "_________________________________________________________________\n",
      "conv2d_2 (Conv2D)            (None, 14, 14, 128)       73856     \n",
      "_________________________________________________________________\n",
      "max_pooling2d_2 (MaxPooling2 (None, 7, 7, 128)         0         \n",
      "_________________________________________________________________\n",
      "dropout_2 (Dropout)          (None, 7, 7, 128)         0         \n",
      "_________________________________________________________________\n",
      "conv2d_3 (Conv2D)            (None, 7, 7, 256)         295168    \n",
      "_________________________________________________________________\n",
      "max_pooling2d_3 (MaxPooling2 (None, 3, 3, 256)         0         \n",
      "_________________________________________________________________\n",
      "dropout_3 (Dropout)          (None, 3, 3, 256)         0         \n",
      "_________________________________________________________________\n",
      "flatten_1 (Flatten)          (None, 2304)              0         \n",
      "_________________________________________________________________\n",
      "dense_1 (Dense)              (None, 128)               295040    \n",
      "_________________________________________________________________\n",
      "dense_2 (Dense)              (None, 64)                8256      \n",
      "_________________________________________________________________\n",
      "dense_3 (Dense)              (None, 32)                2080      \n",
      "_________________________________________________________________\n",
      "dense_4 (Dense)              (None, 10)                330       \n",
      "=================================================================\n",
      "Total params: 675,370\n",
      "Trainable params: 675,370\n",
      "Non-trainable params: 0\n",
      "_________________________________________________________________\n"
     ]
    }
   ],
   "source": [
    "model.summary()"
   ]
  }
 ],
 "metadata": {
  "kernelspec": {
   "display_name": "Python 3",
   "language": "python",
   "name": "python3"
  },
  "language_info": {
   "codemirror_mode": {
    "name": "ipython",
    "version": 3
   },
   "file_extension": ".py",
   "mimetype": "text/x-python",
   "name": "python",
   "nbconvert_exporter": "python",
   "pygments_lexer": "ipython3",
   "version": "3.6.5"
  }
 },
 "nbformat": 4,
 "nbformat_minor": 2
}
