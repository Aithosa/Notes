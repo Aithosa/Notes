{
 "cells": [
  {
   "cell_type": "code",
   "execution_count": 14,
   "metadata": {},
   "outputs": [],
   "source": [
    "import numpy as np\n",
    "from keras.datasets import mnist\n",
    "import keras\n",
    "import gc\n",
    "\n",
    "from keras.models import Sequential, Model\n",
    "from keras.layers import Input, Dense, Dropout, Flatten\n",
    "from keras.layers.convolutional import Conv2D, MaxPooling2D"
   ]
  },
  {
   "cell_type": "code",
   "execution_count": 8,
   "metadata": {},
   "outputs": [
    {
     "name": "stdout",
     "output_type": "stream",
     "text": [
      "(28, 28)\n",
      "5\n"
     ]
    }
   ],
   "source": [
    "(X_train, y_train), (X_test, y_test) = mnist.load_data()\n",
    "print(X_train[0].shape)\n",
    "print(y_train[0])\n",
    "X_train = X_train.reshape(X_train.shape[0],28,28,1).astype('float32') \n",
    "X_test = X_test.reshape(X_test.shape[0],28,28,1).astype('float32')\n",
    "X_train /= 255 \n",
    "X_test /= 255"
   ]
  },
  {
   "cell_type": "code",
   "execution_count": 9,
   "metadata": {
    "collapsed": true
   },
   "outputs": [],
   "source": [
    "'''\n",
    "读者也可以使用keras.utils.to_categorical(y, num_classes=None)方法。\n",
    "这是是为了展示one hot encoding具体是怎么生成的\n",
    "'''\n",
    "def tran_y(y): \n",
    "    y_ohe = np.zeros(10) \n",
    "    y_ohe[y] = 1 \n",
    "    return y_ohe"
   ]
  },
  {
   "cell_type": "code",
   "execution_count": 10,
   "metadata": {
    "collapsed": true
   },
   "outputs": [],
   "source": [
    "y_train_ohe = np.array([tran_y(y_train[i]) for i in range(len(y_train))]) \n",
    "y_test_ohe = np.array([tran_y(y_test[i]) for i in range(len(y_test))])\n",
    "y_train_ohe = y_train_ohe.astype('float32')\n",
    "y_test_ohe = y_test_ohe.astype('float32')"
   ]
  },
  {
   "cell_type": "markdown",
   "metadata": {},
   "source": [
    "定义模型结构。"
   ]
  },
  {
   "cell_type": "code",
   "execution_count": 12,
   "metadata": {},
   "outputs": [],
   "source": [
    "model = Sequential() \n",
    "model.add(Conv2D(filters = 64, kernel_size = (3, 3), strides = (1, 1), padding = 'same', activation = 'relu',\n",
    "          input_shape = (28,28,1)))\n",
    "model.add(MaxPooling2D(pool_size = (2, 2)))\n",
    "model.add(Dropout(0.5))\n",
    "model.add(Conv2D(128, kernel_size = (3, 3), strides = (1, 1), padding = 'same', activation = 'relu')) \n",
    "model.add(MaxPooling2D(pool_size = (2, 2))) \n",
    "model.add(Dropout(0.5)) \n",
    "model.add(Conv2D(256, kernel_size = (3, 3), strides = (1, 1), padding = 'same', activation = 'relu')) \n",
    "model.add(MaxPooling2D(pool_size = (2, 2))) \n",
    "model.add(Dropout(0.5))\n",
    "model.add(Flatten())\n",
    "model.add(Dense(128, activation = 'relu')) \n",
    "model.add(Dense(64, activation = 'relu')) \n",
    "model.add(Dense(32, activation = 'relu')) \n",
    "model.add(Dense(10, activation = 'softmax'))"
   ]
  },
  {
   "cell_type": "markdown",
   "metadata": {},
   "source": [
    "我们可以定制各种选项，比如下面就定制了优化器选项。"
   ]
  },
  {
   "cell_type": "code",
   "execution_count": 15,
   "metadata": {},
   "outputs": [],
   "source": [
    "adamoptimizer = keras.optimizers.Adam(lr = 1e-4)\n",
    "model.compile(loss = 'categorical_crossentropy', \n",
    "              optimizer = adamoptimizer, metrics = ['accuracy'])"
   ]
  },
  {
   "cell_type": "code",
   "execution_count": 16,
   "metadata": {},
   "outputs": [
    {
     "name": "stdout",
     "output_type": "stream",
     "text": [
      "Train on 60000 samples, validate on 10000 samples\n",
      "Epoch 1/20\n",
      "60000/60000 [==============================] - 19s - loss: 1.1123 - acc: 0.6214 - val_loss: 0.2843 - val_acc: 0.9263\n",
      "Epoch 2/20\n",
      "60000/60000 [==============================] - 16s - loss: 0.3145 - acc: 0.9017 - val_loss: 0.1436 - val_acc: 0.9588\n",
      "Epoch 3/20\n",
      "60000/60000 [==============================] - 17s - loss: 0.2065 - acc: 0.9360 - val_loss: 0.1050 - val_acc: 0.9692\n",
      "Epoch 4/20\n",
      "60000/60000 [==============================] - 17s - loss: 0.1630 - acc: 0.9492 - val_loss: 0.0840 - val_acc: 0.9761\n",
      "Epoch 5/20\n",
      "60000/60000 [==============================] - 16s - loss: 0.1376 - acc: 0.9573 - val_loss: 0.0668 - val_acc: 0.9795\n",
      "Epoch 6/20\n",
      "60000/60000 [==============================] - 16s - loss: 0.1209 - acc: 0.9620 - val_loss: 0.0600 - val_acc: 0.9825\n",
      "Epoch 7/20\n",
      "60000/60000 [==============================] - 16s - loss: 0.1052 - acc: 0.9668 - val_loss: 0.0505 - val_acc: 0.9850\n",
      "Epoch 8/20\n",
      "60000/60000 [==============================] - 17s - loss: 0.0943 - acc: 0.9704 - val_loss: 0.0441 - val_acc: 0.9860\n",
      "Epoch 9/20\n",
      "60000/60000 [==============================] - 17s - loss: 0.0891 - acc: 0.9714 - val_loss: 0.0391 - val_acc: 0.9870\n",
      "Epoch 10/20\n",
      "60000/60000 [==============================] - 17s - loss: 0.0800 - acc: 0.9752 - val_loss: 0.0362 - val_acc: 0.9884\n",
      "Epoch 11/20\n",
      "60000/60000 [==============================] - 16s - loss: 0.0744 - acc: 0.9766 - val_loss: 0.0336 - val_acc: 0.9895\n",
      "Epoch 12/20\n",
      "60000/60000 [==============================] - 16s - loss: 0.0672 - acc: 0.9794 - val_loss: 0.0305 - val_acc: 0.9895\n",
      "Epoch 13/20\n",
      "60000/60000 [==============================] - 16s - loss: 0.0645 - acc: 0.9798 - val_loss: 0.0284 - val_acc: 0.9900\n",
      "Epoch 14/20\n",
      "60000/60000 [==============================] - 17s - loss: 0.0610 - acc: 0.9811 - val_loss: 0.0267 - val_acc: 0.9908\n",
      "Epoch 15/20\n",
      "60000/60000 [==============================] - 16s - loss: 0.0573 - acc: 0.9820 - val_loss: 0.0267 - val_acc: 0.9913\n",
      "Epoch 16/20\n",
      "60000/60000 [==============================] - 16s - loss: 0.0551 - acc: 0.9826 - val_loss: 0.0274 - val_acc: 0.9908\n",
      "Epoch 17/20\n",
      "60000/60000 [==============================] - 16s - loss: 0.0514 - acc: 0.9839 - val_loss: 0.0243 - val_acc: 0.9919\n",
      "Epoch 18/20\n",
      "60000/60000 [==============================] - 16s - loss: 0.0506 - acc: 0.9838 - val_loss: 0.0267 - val_acc: 0.9906\n",
      "Epoch 19/20\n",
      "60000/60000 [==============================] - 17s - loss: 0.0496 - acc: 0.9846 - val_loss: 0.0239 - val_acc: 0.9922\n",
      "Epoch 20/20\n",
      "60000/60000 [==============================] - 17s - loss: 0.0452 - acc: 0.9855 - val_loss: 0.0222 - val_acc: 0.9922\n"
     ]
    },
    {
     "data": {
      "text/plain": [
       "<keras.callbacks.History at 0x18d15cb5dd8>"
      ]
     },
     "execution_count": 16,
     "metadata": {},
     "output_type": "execute_result"
    }
   ],
   "source": [
    "model.fit(X_train, y_train_ohe, validation_data = (X_test, y_test_ohe), \n",
    "          epochs = 20, batch_size = 128)"
   ]
  }
 ],
 "metadata": {
  "kernelspec": {
   "display_name": "Python 3",
   "language": "python",
   "name": "python3"
  },
  "language_info": {
   "codemirror_mode": {
    "name": "ipython",
    "version": 3
   },
   "file_extension": ".py",
   "mimetype": "text/x-python",
   "name": "python",
   "nbconvert_exporter": "python",
   "pygments_lexer": "ipython3",
   "version": "3.5.3"
  }
 },
 "nbformat": 4,
 "nbformat_minor": 2
}
