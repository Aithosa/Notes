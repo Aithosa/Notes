{
 "cells": [
  {
   "cell_type": "code",
   "execution_count": 1,
   "metadata": {},
   "outputs": [
    {
     "name": "stderr",
     "output_type": "stream",
     "text": [
      "Using CNTK backend\n"
     ]
    }
   ],
   "source": [
    "# -*- coding: UTF-8 -*-\n",
    "%matplotlib inline\n",
    "import pandas as pd\n",
    "import numpy as np\n",
    "import pickle\n",
    "\n",
    "import keras\n",
    "from keras.models import Sequential, Model\n",
    "from keras.layers import Input, Dense, Activation, Dropout, Embedding, Reshape, Dot, Concatenate, Multiply, Merge\n",
    "from keras.layers import LSTM\n",
    "from keras.optimizers import RMSprop\n",
    "from keras.utils.data_utils import get_file\n",
    "from keras.preprocessing.sequence import pad_sequences\n",
    "from keras.models import model_from_json\n",
    "\n",
    "import matplotlib.pyplot as plt\n",
    "from sklearn.preprocessing import MinMaxScaler\n",
    "import jieba\n",
    "plt.rcParams['figure.figsize']=(20, 10)"
   ]
  },
  {
   "cell_type": "markdown",
   "metadata": {},
   "source": [
    "读入数据"
   ]
  },
  {
   "cell_type": "code",
   "execution_count": 2,
   "metadata": {},
   "outputs": [
    {
     "name": "stdout",
     "output_type": "stream",
     "text": [
      "Wall time: 46.8 s\n"
     ]
    }
   ],
   "source": [
    "%%time\n",
    "with open(\"./data/dataset_1MM/dataset.pkl\", \"rb\") as f:\n",
    "    data = pickle.load(f)"
   ]
  },
  {
   "cell_type": "code",
   "execution_count": 3,
   "metadata": {},
   "outputs": [
    {
     "data": {
      "text/plain": [
       "3"
      ]
     },
     "execution_count": 3,
     "metadata": {},
     "output_type": "execute_result"
    }
   ],
   "source": [
    "len(data)"
   ]
  },
  {
   "cell_type": "code",
   "execution_count": 4,
   "metadata": {},
   "outputs": [
    {
     "data": {
      "text/plain": [
       "0"
      ]
     },
     "execution_count": 4,
     "metadata": {},
     "output_type": "execute_result"
    }
   ],
   "source": [
    "import gc\n",
    "gc.collect()"
   ]
  },
  {
   "cell_type": "markdown",
   "metadata": {},
   "source": [
    "看看数据里都是什么"
   ]
  },
  {
   "cell_type": "code",
   "execution_count": 5,
   "metadata": {},
   "outputs": [
    {
     "name": "stdout",
     "output_type": "stream",
     "text": [
      "======= 0\n",
      "r\n",
      "y\n",
      "c\n",
      "======= 1\n",
      "r\n",
      "y\n",
      "c\n",
      "======= 2\n",
      "r\n",
      "y\n",
      "c\n"
     ]
    }
   ],
   "source": [
    "for j in range(len(data)):\n",
    "    print(\"======= %s\" % j)\n",
    "    for i, k in enumerate(data[j]):\n",
    "        print(k)"
   ]
  },
  {
   "cell_type": "markdown",
   "metadata": {},
   "source": [
    "这里分析最长的句子的长度"
   ]
  },
  {
   "cell_type": "code",
   "execution_count": 6,
   "metadata": {},
   "outputs": [
    {
     "name": "stdout",
     "output_type": "stream",
     "text": [
      "2002\n",
      "939\n"
     ]
    }
   ],
   "source": [
    "# 这里分析最长的句子的长度\n",
    "length=map(len, data[0]['c'])\n",
    "res=list(length)\n",
    "context_length=np.max(res[:])\n",
    "print(context_length)\n",
    "\n",
    "length=map(len, data[0]['r'])\n",
    "res=list(length)\n",
    "response_length=np.max(res[:])\n",
    "print(response_length)"
   ]
  },
  {
   "cell_type": "markdown",
   "metadata": {},
   "source": [
    "这里分析整个词典的大小"
   ]
  },
  {
   "cell_type": "code",
   "execution_count": 7,
   "metadata": {},
   "outputs": [
    {
     "name": "stdout",
     "output_type": "stream",
     "text": [
      "144952\n",
      "144952\n",
      "Wall time: 6.92 s\n"
     ]
    }
   ],
   "source": [
    "%%time\n",
    "\n",
    "# 这里分析整个词典的大小\n",
    "context_size = np.max(list(map(lambda x:  max(x) if len(x)>0 else 0, data[0]['c'])))\n",
    "print(context_size)\n",
    "\n",
    "response_size = max(list(map(lambda x:  max(x) if len(x)>0 else 0, data[0]['r'])))\n",
    "print(response_size)"
   ]
  },
  {
   "cell_type": "code",
   "execution_count": 8,
   "metadata": {},
   "outputs": [
    {
     "data": {
      "text/plain": [
       "140905"
      ]
     },
     "execution_count": 8,
     "metadata": {},
     "output_type": "execute_result"
    }
   ],
   "source": [
    "max(data[0]['r'][1])"
   ]
  },
  {
   "cell_type": "code",
   "execution_count": 9,
   "metadata": {},
   "outputs": [
    {
     "name": "stdout",
     "output_type": "stream",
     "text": [
      "Begin Modeling...\n",
      "(Output('Block901_Output_0', [#], [64]),)\n",
      "Finish compiling...\n",
      "____________________________________________________________________________________________________\n",
      "Layer (type)                     Output Shape          Param #     Connected to                     \n",
      "====================================================================================================\n",
      "context_input (InputLayer)       (None, 120)           0                                            \n",
      "____________________________________________________________________________________________________\n",
      "response_input (InputLayer)      (None, 120)           0                                            \n",
      "____________________________________________________________________________________________________\n",
      "embedding_1 (Embedding)          (None, 120, 64)       9276928     context_input[0][0]              \n",
      "____________________________________________________________________________________________________\n",
      "embedding_2 (Embedding)          (None, 120, 64)       9276928     response_input[0][0]             \n",
      "____________________________________________________________________________________________________\n",
      "lstm_1 (LSTM)                    (None, 64)            33024       embedding_1[0][0]                \n",
      "____________________________________________________________________________________________________\n",
      "lstm_2 (LSTM)                    (None, 64)            33024       embedding_2[0][0]                \n",
      "____________________________________________________________________________________________________\n",
      "dot_1 (Dot)                      (None, 1)             0           lstm_1[0][0]                     \n",
      "                                                                   lstm_2[0][0]                     \n",
      "____________________________________________________________________________________________________\n",
      "dense_1 (Dense)                  (None, 2)             4           dot_1[0][0]                      \n",
      "====================================================================================================\n",
      "Total params: 18,619,908\n",
      "Trainable params: 18,619,908\n",
      "Non-trainable params: 0\n",
      "____________________________________________________________________________________________________\n"
     ]
    }
   ],
   "source": [
    "embedding_dim=64\n",
    "lstm_dim=64\n",
    "\n",
    "context_length=np.max(list(map(len, data[0]['c'])))\n",
    "#print(context_length)\n",
    "response_length=np.max(list( map(len, data[0]['r'])))\n",
    "#print(response_length)\n",
    "\n",
    "Y = data[0]['r']\n",
    "\n",
    "print('Begin Modeling...')\n",
    "\n",
    "context_size = np.max(list(map(lambda x:  max(x) if len(x)>0 else 0, data[0]['c'])))\n",
    "response_size = max(list(map(lambda x:  max(x) if len(x)>0 else 0, data[0]['r'])))\n",
    "volcabulary_size=max(context_size, response_size)\n",
    "\n",
    "context_length=120\n",
    "\n",
    "# 对上下文部分进行嵌入和建模\n",
    "context=Input(shape=((context_length,)), dtype='Int32', name='context_input')\n",
    "context_embedded=Embedding(input_length=context_length, output_dim=embedding_dim, input_dim=volcabulary_size)(context)\n",
    "context_lstm=LSTM(lstm_dim)(context_embedded)\n",
    "\n",
    "# 对回应部分进行嵌入和建模\n",
    "response_length=120\n",
    "response=Input(shape=((response_length,)), dtype='Int32', name='response_input')\n",
    "response_embedded=Embedding(input_length=response_length, output_dim=embedding_dim, input_dim=volcabulary_size)(response)\n",
    "response_lstm=LSTM(lstm_dim)(response_embedded)\n",
    "\n",
    "print(response_lstm.outputs)\n",
    "\n",
    "x = Dot([1, 1])([context_lstm, response_lstm])\n",
    "#x = Multiply()([context_lstm, response_lstm])\n",
    "yhat = Dense(2, activation='softmax')(x)\n",
    "\n",
    "model = Model(inputs=[context, response], outputs=yhat)\n",
    "model.compile(optimizer='rmsprop',\n",
    "              loss='binary_crossentropy',\n",
    "              metrics=['accuracy'])\n",
    "print('Finish compiling...')\n",
    "model.summary()"
   ]
  },
  {
   "cell_type": "code",
   "execution_count": 10,
   "metadata": {
    "collapsed": true
   },
   "outputs": [],
   "source": [
    "# 针对该数据定制的generator。一般应该将三个部分分离以后再编制generator\n",
    "\n",
    "def data_gen(data, batch_size=100):    \n",
    "    contextRaw = data['c']\n",
    "    responseRaw = data['r']\n",
    "    yRaw = data['y']\n",
    "    \n",
    "    number_of_batches = len(contextRaw) // batch_size\n",
    "    counter=0\n",
    "    \n",
    "    context_length=np.max(list(map(len, contextRaw)))//3    \n",
    "    response_length=np.max(list( map(len, responseRaw)))//3\n",
    "    \n",
    "    context_length=120\n",
    "    response_length=120\n",
    "\n",
    "    while 1:        \n",
    "        lowerBound = batch_size*counter\n",
    "        upperBound = batch_size*(counter+1)\n",
    "        Ctemp = contextRaw[lowerBound : upperBound]\n",
    "        C_batch = pad_sequences(Ctemp, maxlen=context_length, padding='post')\n",
    "        C_res = np.zeros((batch_size, context_length), dtype=np.int)\n",
    "        \n",
    "        Rtemp = responseRaw[lowerBound : upperBound]\n",
    "        R_batch = pad_sequences(Rtemp, maxlen=response_length, padding='post')\n",
    "        R_res = np.zeros((batch_size, response_length), dtype=np.int)\n",
    "        for k in np.arange(batch_size):\n",
    "            C_res[k, :] = C_batch[k, :]\n",
    "            R_res[k, :] = R_batch[k, :]\n",
    "        y_res= keras.utils.to_categorical(yRaw[lowerBound : upperBound])\n",
    "        counter += 1\n",
    "        yield([C_res.astype('float32'), R_res.astype('float32')], y_res.astype('float32'))\n",
    "        if (counter < number_of_batches):            \n",
    "            counter=0            "
   ]
  },
  {
   "cell_type": "markdown",
   "metadata": {},
   "source": [
    "下面训练这个模型。在6GB显存的GTX 1060上，小批量的大小不能超过200。读者有时间可以试试多次迭代，看看效果。"
   ]
  },
  {
   "cell_type": "code",
   "execution_count": 11,
   "metadata": {},
   "outputs": [
    {
     "name": "stdout",
     "output_type": "stream",
     "text": [
      "Epoch 1/1\n",
      "5953/5953 [==============================] - 2642s - loss: 3.1897 - acc: 0.7998 - val_loss: 4.1679 - val_acc: 0.7400\n"
     ]
    },
    {
     "data": {
      "text/plain": [
       "<keras.callbacks.History at 0x1e52bc47898>"
      ]
     },
     "execution_count": 11,
     "metadata": {},
     "output_type": "execute_result"
    }
   ],
   "source": [
    "#Y = keras.utils.to_categorical(data[0]['y'], num_classes=2)\n",
    "batch_size=168\n",
    "model.fit_generator(data_gen(data[0], batch_size=batch_size), \n",
    "                    steps_per_epoch=len(data[0]['c'])//batch_size,\n",
    "                    validation_data = data_gen(data[1]),\n",
    "                    validation_steps = len(data[1]['c'])//batch_size,\n",
    "                    epochs=1)"
   ]
  },
  {
   "cell_type": "markdown",
   "metadata": {},
   "source": [
    "下面我们将模型存入磁盘。我们也可以在拟合过程中使用checkponit选项将每一步的结果都分别存入一个磁盘文件中。"
   ]
  },
  {
   "cell_type": "code",
   "execution_count": 12,
   "metadata": {},
   "outputs": [
    {
     "name": "stdout",
     "output_type": "stream",
     "text": [
      "模型已经写入磁盘\n"
     ]
    }
   ],
   "source": [
    "# 将模型结构存为JSON格式\n",
    "model_json = model.to_json()\n",
    "with open(\"./data/dual_lstm_model.json\", \"w\") as json_file:\n",
    "    json_file.write(model_json)\n",
    "# 将模型拟合得到的权重存入HDF5文件中\n",
    "model.save_weights(\"./data/dual_lstm_model.h5\")\n",
    "print(\"模型已经写入磁盘\")\n",
    " "
   ]
  },
  {
   "cell_type": "code",
   "execution_count": 13,
   "metadata": {},
   "outputs": [
    {
     "name": "stdout",
     "output_type": "stream",
     "text": [
      "载入模型完毕\n",
      "模型编译完毕...\n"
     ]
    }
   ],
   "source": [
    "# 如果要调用已有模型，可以通过如下方法\n",
    "\n",
    "# 从磁盘载入模型结构\n",
    "json_file = open('./data/dual_lstm_model.json', 'r')\n",
    "loaded_model_json = json_file.read()\n",
    "json_file.close()\n",
    "model = model_from_json(loaded_model_json)\n",
    "# 从磁盘读入模型权重\n",
    "model.load_weights(\"./data/dual_lstm_model.h5\")\n",
    "print(\"载入模型完毕\")\n",
    "model.compile(optimizer='rmsprop',\n",
    "              loss='binary_crossentropy',\n",
    "              metrics=['accuracy'])\n",
    "print('模型编译完毕...')"
   ]
  },
  {
   "cell_type": "markdown",
   "metadata": {},
   "source": [
    "下面进行预测。输入数据的组织形式应该遵循data generator里面的数据处理和输出组织形式，但是我们可以通过predict_generator方法直接引用现有的data generator，只是用在测试集，而不是训练集上。"
   ]
  },
  {
   "cell_type": "code",
   "execution_count": 14,
   "metadata": {},
   "outputs": [
    {
     "name": "stdout",
     "output_type": "stream",
     "text": [
      "1387/1387 [==============================] - 242s   \n"
     ]
    }
   ],
   "source": [
    "batch_size=256\n",
    "ypred = model.predict_generator( data_gen(data[2], batch_size=batch_size), steps=(len(data[2]['c'])//batch_size), verbose=1)"
   ]
  },
  {
   "cell_type": "code",
   "execution_count": 15,
   "metadata": {},
   "outputs": [
    {
     "data": {
      "text/plain": [
       "0.71249774693583279"
      ]
     },
     "execution_count": 15,
     "metadata": {},
     "output_type": "execute_result"
    }
   ],
   "source": [
    "yTest = data[1]['y']\n",
    "\n",
    "ypred2=(2-(ypred[:,0]>ypred[:,1]))-1\n",
    "z = [str(ypred2[i])==yTest[i] for i in range(len(ypred2))]\n",
    "np.mean(z)"
   ]
  }
 ],
 "metadata": {
  "kernelspec": {
   "display_name": "Python 3",
   "language": "python",
   "name": "python3"
  },
  "language_info": {
   "codemirror_mode": {
    "name": "ipython",
    "version": 3
   },
   "file_extension": ".py",
   "mimetype": "text/x-python",
   "name": "python",
   "nbconvert_exporter": "python",
   "pygments_lexer": "ipython3",
   "version": "3.5.3"
  }
 },
 "nbformat": 4,
 "nbformat_minor": 2
}
