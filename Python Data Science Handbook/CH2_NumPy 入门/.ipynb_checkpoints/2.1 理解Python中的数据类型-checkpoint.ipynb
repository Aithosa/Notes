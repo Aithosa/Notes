{
 "cells": [
  {
   "cell_type": "code",
   "execution_count": 1,
   "metadata": {},
   "outputs": [
    {
     "data": {
      "text/plain": [
       "'1.14.3'"
      ]
     },
     "execution_count": 1,
     "metadata": {},
     "output_type": "execute_result"
    }
   ],
   "source": [
    "import numpy\n",
    "numpy.__version__"
   ]
  },
  {
   "cell_type": "markdown",
   "metadata": {},
   "source": [
    "**对内置文档的提醒**\n",
    "* 当你阅读本章时，不要忘记IPython 提供了快速探索包的内容的方法（用Tab 键自动补全），以及各种函数的文档（用? 符号）。如果你还需要回顾一下，可以翻回1.2 节。\n",
    "    * 例如，要显示numpy 命名空间的所有内容，可以用如下方式：\n",
    "    <br>`In [3]: np.<TAB>`\n",
    "    * 要显示NumPy 内置的文档，可以用如下方式：\n",
    "    <br>`In [4]: np?`\n",
    "    * 要获取更详细的文档以及教程和其他资源，可以访问http://www.numpy.org。"
   ]
  },
  {
   "cell_type": "markdown",
   "metadata": {},
   "source": [
    "## 2.1 理解Python中的数据类型"
   ]
  },
  {
   "cell_type": "markdown",
   "metadata": {},
   "source": [
    "在C 语言中，每个变量的数据类型被明确地声明；而在Python中，类型是动态推断的。这意味着可以将任何类型的数据指定给任何变量："
   ]
  },
  {
   "cell_type": "code",
   "execution_count": null,
   "metadata": {},
   "outputs": [],
   "source": [
    "# Python代码\n",
    "x = 4\n",
    "x = \"four\""
   ]
  },
  {
   "cell_type": "markdown",
   "metadata": {},
   "source": [
    "同样的操作在C 语言中将会导致（取决于编译器设置）编译错误或其他未知的后果："
   ]
  },
  {
   "cell_type": "markdown",
   "metadata": {},
   "source": [
    "```C\n",
    "/* C代码 */\n",
    "int x = 4;\n",
    "x = \"four\"; // 编译失败\n",
    "```"
   ]
  },
  {
   "cell_type": "markdown",
   "metadata": {},
   "source": [
    "### 2.1.1　Python整型不仅仅是一个整型"
   ]
  },
  {
   "cell_type": "markdown",
   "metadata": {},
   "source": [
    "标准的Python 实现是用C 语言编写的。这意味着每一个Python 对象都是一个聪明的伪C语言结构体，该结构体不仅包含其值，还有其他信息。例如，当我们在Python 中定义一个整型，例如x = 10000 时，x 并不是一个“原生”整型，而是一个指针，指向一个C 语言的复合结构体，结构体里包含了一些值。查看Python 3.4 的源代码，可以发现整型（长整型）的定义，如下所示（C 语言的宏经过扩展之后）：\n",
    "```c\n",
    "struct _longobject {\n",
    "long ob_refcnt;\n",
    "PyTypeObject *ob_type;\n",
    "size_t ob_size;\n",
    "long ob_digit[1];\n",
    "};\n",
    "```"
   ]
  },
  {
   "cell_type": "markdown",
   "metadata": {},
   "source": [
    "由于Python 的整型结构体里面还包含了大量额外的信息，所以Python 可以自由、动态地编码。\n",
    "<br>但是，Python 类型中的这些额外信息也会成为负担，在多个对象组合的结构体中尤其明显。"
   ]
  },
  {
   "cell_type": "markdown",
   "metadata": {},
   "source": [
    "### 2.1.2　Python列表不仅仅是一个列表"
   ]
  },
  {
   "cell_type": "markdown",
   "metadata": {},
   "source": [
    "Python 中的标准可变多元素容器是列表。可以用如下方式创建一个整型值列表："
   ]
  },
  {
   "cell_type": "code",
   "execution_count": 2,
   "metadata": {},
   "outputs": [
    {
     "name": "stdout",
     "output_type": "stream",
     "text": [
      "<class 'int'>\n"
     ]
    }
   ],
   "source": [
    "L = list(range(10))\n",
    "print(type(L[0]))"
   ]
  },
  {
   "cell_type": "markdown",
   "metadata": {},
   "source": [
    "或者创建一个字符串列表："
   ]
  },
  {
   "cell_type": "code",
   "execution_count": 3,
   "metadata": {},
   "outputs": [
    {
     "name": "stdout",
     "output_type": "stream",
     "text": [
      "<class 'str'>\n"
     ]
    }
   ],
   "source": [
    "L2 = [str(c) for c in L]\n",
    "print(type(L2[0]))"
   ]
  },
  {
   "cell_type": "markdown",
   "metadata": {},
   "source": [
    "因为Python 的动态类型特性，甚至可以创建一个异构的列表："
   ]
  },
  {
   "cell_type": "code",
   "execution_count": 4,
   "metadata": {},
   "outputs": [
    {
     "data": {
      "text/plain": [
       "[bool, str, float, int]"
      ]
     },
     "execution_count": 4,
     "metadata": {},
     "output_type": "execute_result"
    }
   ],
   "source": [
    "L3 = [True, \"2\", 3.0, 4]\n",
    "[type(item) for item in L3]"
   ]
  },
  {
   "cell_type": "markdown",
   "metadata": {},
   "source": [
    "但是想拥有这种灵活性也是要付出一定代价的：为了获得这些灵活的类型，列表中的每一项必须包含各自的类型信息、引用计数和其他信息；也就是说，每一项都是一个完整的Python 对象。"
   ]
  },
  {
   "cell_type": "markdown",
   "metadata": {},
   "source": [
    "如果列表中的所有变量都是同一类型的，那么很多信息都会显得多余——将数据存储在固定类型的数组中应该会更高效。\n",
    "<br>如动态类型的列表和固定类型的（NumPy 式）数组间的区别"
   ]
  },
  {
   "cell_type": "markdown",
   "metadata": {},
   "source": [
    "### 2.1.3　Python中的固定类型数组"
   ]
  },
  {
   "cell_type": "markdown",
   "metadata": {},
   "source": [
    "Python 提供了几种将数据存储在有效的、固定类型的数据缓存中的选项。\n",
    "<br>内置的数组（array）模块（在Python 3.3 之后可用）可以用于创建统一类型的密集数组："
   ]
  },
  {
   "cell_type": "code",
   "execution_count": 6,
   "metadata": {},
   "outputs": [
    {
     "data": {
      "text/plain": [
       "array('i', [0, 1, 2, 3, 4, 5, 6, 7, 8, 9])"
      ]
     },
     "execution_count": 6,
     "metadata": {},
     "output_type": "execute_result"
    }
   ],
   "source": [
    "import array\n",
    "L = list(range(10))\n",
    "A = array.array('i', L)\n",
    "A"
   ]
  },
  {
   "cell_type": "markdown",
   "metadata": {},
   "source": [
    "这里的'i' 是一个数据类型码，表示数据为整型。"
   ]
  },
  {
   "cell_type": "markdown",
   "metadata": {},
   "source": [
    "**更实用的是NumPy 包中的ndarray 对象。**\n",
    "<br>Python 的数组对象提供了数组型数据的有效存储，而NumPy 为该数据加上了高效的操作。"
   ]
  },
  {
   "cell_type": "code",
   "execution_count": 7,
   "metadata": {},
   "outputs": [],
   "source": [
    "import numpy as np"
   ]
  },
  {
   "cell_type": "markdown",
   "metadata": {},
   "source": [
    "### 2.1.4　从Python列表创建数组"
   ]
  },
  {
   "cell_type": "markdown",
   "metadata": {},
   "source": [
    "首先，可以用np.array 从Python 列表创建数组："
   ]
  },
  {
   "cell_type": "code",
   "execution_count": 10,
   "metadata": {},
   "outputs": [
    {
     "data": {
      "text/plain": [
       "array([1, 4, 2, 5, 3])"
      ]
     },
     "execution_count": 10,
     "metadata": {},
     "output_type": "execute_result"
    }
   ],
   "source": [
    "# 整型数组:\n",
    "np.array([1, 4, 2, 5, 3])"
   ]
  },
  {
   "cell_type": "markdown",
   "metadata": {},
   "source": [
    "请记住，不同于Python 列表，NumPy 要求数组必须包含同一类型的数据。\n",
    "<br>如果类型不匹配，NumPy 将会向上转换（如果可行）。\n",
    "<br>这里整型被转换为浮点型："
   ]
  },
  {
   "cell_type": "code",
   "execution_count": 11,
   "metadata": {},
   "outputs": [
    {
     "data": {
      "text/plain": [
       "array([3.14, 4.  , 2.  , 3.  ])"
      ]
     },
     "execution_count": 11,
     "metadata": {},
     "output_type": "execute_result"
    }
   ],
   "source": [
    "np.array([3.14, 4, 2, 3])"
   ]
  },
  {
   "cell_type": "markdown",
   "metadata": {},
   "source": [
    "如果希望明确设置数组的数据类型，可以用dtype 关键字："
   ]
  },
  {
   "cell_type": "code",
   "execution_count": 12,
   "metadata": {},
   "outputs": [
    {
     "data": {
      "text/plain": [
       "array([1., 2., 3., 4.], dtype=float32)"
      ]
     },
     "execution_count": 12,
     "metadata": {},
     "output_type": "execute_result"
    }
   ],
   "source": [
    "np.array([1, 2, 3, 4], dtype='float32')"
   ]
  },
  {
   "cell_type": "markdown",
   "metadata": {},
   "source": [
    "最后，不同于Python 列表，NumPy 数组可以被指定为多维的。\n",
    "<br>以下是用列表的列表初始化多维数组的一种方法："
   ]
  },
  {
   "cell_type": "code",
   "execution_count": 13,
   "metadata": {},
   "outputs": [
    {
     "data": {
      "text/plain": [
       "array([[2, 3, 4],\n",
       "       [4, 5, 6],\n",
       "       [6, 7, 8]])"
      ]
     },
     "execution_count": 13,
     "metadata": {},
     "output_type": "execute_result"
    }
   ],
   "source": [
    "# 嵌套列表构成的多维数组\n",
    "np.array([range(i, i + 3) for i in [2, 4, 6]])"
   ]
  },
  {
   "cell_type": "markdown",
   "metadata": {},
   "source": [
    "内层的列表被当作二维数组的行。"
   ]
  },
  {
   "cell_type": "markdown",
   "metadata": {},
   "source": [
    "### 2.1.5　从头创建数组"
   ]
  },
  {
   "cell_type": "markdown",
   "metadata": {},
   "source": [
    "面对大型数组的时候，用NumPy 内置的方法从头创建数组是一种更高效的方法。"
   ]
  },
  {
   "cell_type": "code",
   "execution_count": null,
   "metadata": {},
   "outputs": [],
   "source": [
    "# 创建一个长度为10的数组，数组的值都是0\n",
    "np.zeros(10, dtype=int)"
   ]
  },
  {
   "cell_type": "code",
   "execution_count": null,
   "metadata": {},
   "outputs": [],
   "source": [
    "# 创建一个3×5的浮点型数组，数组的值都是1\n",
    "np.ones((3, 5), dtype=float)"
   ]
  },
  {
   "cell_type": "code",
   "execution_count": null,
   "metadata": {},
   "outputs": [],
   "source": [
    "# 创建一个3×5的浮点型数组，数组的值都是3.14\n",
    "np.full((3, 5), 3.14)"
   ]
  },
  {
   "cell_type": "code",
   "execution_count": null,
   "metadata": {},
   "outputs": [],
   "source": [
    "# 创建一个3×5的浮点型数组，数组的值是一个线性序列\n",
    "# 从0开始，到20结束，步长为2\n",
    "# （它和内置的range()函数类似）\n",
    "np.arange(0, 20, 2)"
   ]
  },
  {
   "cell_type": "code",
   "execution_count": null,
   "metadata": {},
   "outputs": [],
   "source": [
    "# 创建一个5个元素的数组，这5个数均匀地分配到0~1\n",
    "np.linspace(0, 1, 5)"
   ]
  },
  {
   "cell_type": "code",
   "execution_count": null,
   "metadata": {},
   "outputs": [],
   "source": [
    "# 创建一个3×3的、在0~1均匀分布的随机数组成的数组\n",
    "np.random.random((3, 3))"
   ]
  },
  {
   "cell_type": "code",
   "execution_count": null,
   "metadata": {},
   "outputs": [],
   "source": [
    "# 创建一个3×3的、均值为0、方差为1的\n",
    "# 正态分布的随机数数组\n",
    "np.random.normal(0, 1, (3, 3))"
   ]
  },
  {
   "cell_type": "code",
   "execution_count": null,
   "metadata": {},
   "outputs": [],
   "source": [
    "# 创建一个3×3的、[0, 10)区间的随机整型数组\n",
    "np.random.randint(0, 10, (3, 3))"
   ]
  },
  {
   "cell_type": "code",
   "execution_count": null,
   "metadata": {},
   "outputs": [],
   "source": [
    "# 创建一个3×3的单位矩阵\n",
    "np.eye(3)"
   ]
  },
  {
   "cell_type": "code",
   "execution_count": null,
   "metadata": {},
   "outputs": [],
   "source": [
    "# 创建一个由3个整型数组成的未初始化的数组\n",
    "# 数组的值是内存空间中的任意值\n",
    "np.empty(3)"
   ]
  },
  {
   "cell_type": "markdown",
   "metadata": {},
   "source": [
    "### 2.1.6　NumPy标准数据类型"
   ]
  },
  {
   "cell_type": "markdown",
   "metadata": {},
   "source": [
    "NumPy 数组包含同一类型的值，因此详细了解这些数据类型及其限制是非常重要的。因为NumPy 是在C 语言的基础上开发的，所以C、Fortran 和其他类似语言的用户会比较熟悉这些数据类型。"
   ]
  },
  {
   "cell_type": "markdown",
   "metadata": {},
   "source": [
    "表2-1 列出了标准NumPy 数据类型。\n",
    "<br>请注意，当构建一个数组时，你可以用一个字符串参数来指定数据类型："
   ]
  },
  {
   "cell_type": "code",
   "execution_count": null,
   "metadata": {},
   "outputs": [],
   "source": [
    "np.zeros(10, dtype='int16')"
   ]
  },
  {
   "cell_type": "markdown",
   "metadata": {},
   "source": [
    "或者用相关的NumPy 对象来指定："
   ]
  },
  {
   "cell_type": "code",
   "execution_count": null,
   "metadata": {},
   "outputs": [],
   "source": [
    "np.zeros(10, dtype=np.int16)"
   ]
  },
  {
   "cell_type": "markdown",
   "metadata": {},
   "source": [
    "表2-1：NumPy标准数据类型\n",
    "\n",
    "|数据类型|描述|\n",
    "|:-|:-|\n",
    "|bool_ |布尔值（真、True 或假、False），用一个字节存储|\n",
    "|int_ |默认整型（类似于C 语言中的long，通常情况下是int64 或int32）|\n",
    "|intc |同C 语言的int 相同（通常是int32 或int64）|\n",
    "|intp |用作索引的整型（和C 语言的ssize_t 相同，通常情况下是int32 或int64）|\n",
    "|int8 |字节（byte，范围从–128 到127）|\n",
    "|int16 |整型（范围从–32768 到32767）|\n",
    "|int32 |整型（范围从–2147483648 到2147483647）|\n",
    "|int64 |整型（范围从–9223372036854775808 到9223372036854775807）|\n",
    "|uint8 |无符号整型（范围从0 到255）|\n",
    "|uint16 |无符号整型（范围从0 到65535）|\n",
    "|uint32 |无符号整型（范围从0 到4294967295）|\n",
    "|uint64 |无符号整型（范围从0 到18446744073709551615）|\n",
    "|float_ |float64 的简化形式|\n",
    "|float16 |半精度浮点型：符号比特位，5 比特位指数（exponent），10 比特位尾数（mantissa）|\n",
    "|float32 |单精度浮点型：符号比特位，8 比特位指数，23 比特位尾数|\n",
    "|float64 |双精度浮点型：符号比特位，11 比特位指数，52 比特位尾数|\n",
    "|complex_ |complex128 的简化形式|\n",
    "|complex64 |复数，由两个32 位浮点数表示|\n",
    "|complex128 |复数，由两个64 位浮点数表示|\n",
    "\n",
    "还可以进行更高级的数据类型指定，例如指定高位字节数或低位字节数；更多的信息可以\n",
    "在NumPy 文档（http://numpy.org/）中查看。NumPy 也支持复合数据类型，这一点将会在\n",
    "2.9 节中介绍。"
   ]
  }
 ],
 "metadata": {
  "kernelspec": {
   "display_name": "Python 3",
   "language": "python",
   "name": "python3"
  },
  "language_info": {
   "codemirror_mode": {
    "name": "ipython",
    "version": 3
   },
   "file_extension": ".py",
   "mimetype": "text/x-python",
   "name": "python",
   "nbconvert_exporter": "python",
   "pygments_lexer": "ipython3",
   "version": "3.6.5"
  }
 },
 "nbformat": 4,
 "nbformat_minor": 2
}
