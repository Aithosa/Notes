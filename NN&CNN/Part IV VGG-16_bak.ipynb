{
 "cells": [
  {
   "cell_type": "markdown",
   "metadata": {},
   "source": [
    "# Cat Dog Classification"
   ]
  },
  {
   "cell_type": "markdown",
   "metadata": {},
   "source": [
    "## 1. 下载数据\n",
    "我们将使用包含猫与狗图片的数据集。它是Kaggle.com在2013年底计算机视觉竞赛提供的数据集的一部分，当时卷积神经网络还不是主流。可以在以下位置下载原始数据集: `https://www.kaggle.com/c/dogs-vs-cats/data`。\n",
    "\n",
    "图片是中等分辨率的彩色JPEG。看起来像这样：\n",
    "\n",
    "![cats_vs_dogs_samples](https://s3.amazonaws.com/book.keras.io/img/ch5/cats_vs_dogs_samples.jpg)"
   ]
  },
  {
   "cell_type": "markdown",
   "metadata": {},
   "source": [
    "不出所料，2013年的猫狗大战的Kaggle比赛是由使用卷积神经网络的参赛者赢得的。最佳成绩达到了高达95％的准确率。在本例中，我们将非常接近这个准确率，即使我们将使用不到10％的训练集数据来训练我们的模型。\n",
    "\n",
    "原始数据集的训练集包含25,000张狗和猫的图像（每个类别12,500张），543MB大（压缩）。\n",
    "\n",
    "在下载并解压缩之后，我们将创建一个包含三个子集的新数据集：\n",
    "* 每个类有1000个样本的训练集，\n",
    "* 每个类500个样本的验证集，\n",
    "* 最后是每个类500个样本的测试集。\n",
    "\n",
    "数据已经提前处理好。"
   ]
  },
  {
   "cell_type": "markdown",
   "metadata": {},
   "source": [
    "### 1.1 加载数据集目录"
   ]
  },
  {
   "cell_type": "code",
   "execution_count": 1,
   "metadata": {},
   "outputs": [],
   "source": [
    "import os, shutil\n",
    "\n",
    "# The directory where we will\n",
    "# store our smaller dataset\n",
    "base_dir = './data/cats_and_dogs_small'\n",
    "\n",
    "# Directories for our training,\n",
    "# validation and test splits\n",
    "train_dir = os.path.join(base_dir, 'train')\n",
    "validation_dir = os.path.join(base_dir, 'validation')\n",
    "test_dir = os.path.join(base_dir, 'test')\n",
    "\n",
    "# Directory with our training cat pictures\n",
    "train_cats_dir = os.path.join(train_dir, 'cats')\n",
    "\n",
    "# Directory with our training dog pictures\n",
    "train_dogs_dir = os.path.join(train_dir, 'dogs')\n",
    "\n",
    "# Directory with our validation cat pictures\n",
    "validation_cats_dir = os.path.join(validation_dir, 'cats')\n",
    "\n",
    "# Directory with our validation dog pictures\n",
    "validation_dogs_dir = os.path.join(validation_dir, 'dogs')\n",
    "\n",
    "# Directory with our validation cat pictures\n",
    "test_cats_dir = os.path.join(test_dir, 'cats')\n",
    "\n",
    "# Directory with our validation dog pictures\n",
    "test_dogs_dir = os.path.join(test_dir, 'dogs')"
   ]
  },
  {
   "cell_type": "markdown",
   "metadata": {},
   "source": [
    "## 2. 模型一"
   ]
  },
  {
   "cell_type": "markdown",
   "metadata": {},
   "source": [
    "### 2.1 数据处理"
   ]
  },
  {
   "cell_type": "code",
   "execution_count": 2,
   "metadata": {},
   "outputs": [
    {
     "name": "stderr",
     "output_type": "stream",
     "text": [
      "Using TensorFlow backend.\n"
     ]
    },
    {
     "name": "stdout",
     "output_type": "stream",
     "text": [
      "Found 2000 images belonging to 2 classes.\n",
      "Found 1000 images belonging to 2 classes.\n",
      "Found 1000 images belonging to 2 classes.\n"
     ]
    }
   ],
   "source": [
    "from keras.preprocessing.image import ImageDataGenerator\n",
    "\n",
    "# All images will be rescaled by 1./255\n",
    "train_datagen = ImageDataGenerator(rescale=1./255)\n",
    "validation_datagen = ImageDataGenerator(rescale=1./255)\n",
    "test_datagen = ImageDataGenerator(rescale=1./255)\n",
    "\n",
    "# 150*150\n",
    "train_generator = train_datagen.flow_from_directory(\n",
    "        # This is the target directory\n",
    "        train_dir,\n",
    "        # All images will be resized to 150x150\n",
    "        target_size=(150, 150),\n",
    "        batch_size=20,\n",
    "        # Since we use binary_crossentropy loss, we need binary labels\n",
    "        class_mode='binary')\n",
    "\n",
    "validation_generator = validation_datagen.flow_from_directory(\n",
    "        validation_dir,\n",
    "        target_size=(150, 150),\n",
    "        batch_size=20,\n",
    "        class_mode='binary')\n",
    "\n",
    "test_generator = test_datagen.flow_from_directory(\n",
    "        test_dir,\n",
    "        target_size=(150, 150),\n",
    "        batch_size=20,\n",
    "        class_mode='binary')"
   ]
  },
  {
   "cell_type": "code",
   "execution_count": 3,
   "metadata": {},
   "outputs": [
    {
     "name": "stdout",
     "output_type": "stream",
     "text": [
      "train_dir:  ./data/cats_and_dogs_small\\train\n",
      "validation_dir:  ./data/cats_and_dogs_small\\validation\n",
      "test_dir:  ./data/cats_and_dogs_small\\test\n"
     ]
    }
   ],
   "source": [
    "print('train_dir: ',train_dir)\n",
    "print('validation_dir: ',validation_dir)\n",
    "print('test_dir: ',test_dir)"
   ]
  },
  {
   "cell_type": "code",
   "execution_count": 4,
   "metadata": {},
   "outputs": [
    {
     "name": "stdout",
     "output_type": "stream",
     "text": [
      "data batch shape: (20, 150, 150, 3)\n",
      "labels batch shape: (20,)\n"
     ]
    }
   ],
   "source": [
    "for data_batch, labels_batch in train_generator:\n",
    "    print('data batch shape:', data_batch.shape)\n",
    "    print('labels batch shape:', labels_batch.shape)\n",
    "    break"
   ]
  },
  {
   "cell_type": "code",
   "execution_count": 5,
   "metadata": {},
   "outputs": [
    {
     "data": {
      "text/plain": [
       "array([1., 0., 1., 1., 0., 1., 0., 1., 0., 1., 0., 0., 0., 1., 0., 0., 0.,\n",
       "       1., 1., 1.], dtype=float32)"
      ]
     },
     "execution_count": 5,
     "metadata": {},
     "output_type": "execute_result"
    }
   ],
   "source": [
    "labels_batch"
   ]
  },
  {
   "cell_type": "markdown",
   "metadata": {},
   "source": [
    "### 2.2 构建模型"
   ]
  },
  {
   "cell_type": "code",
   "execution_count": 6,
   "metadata": {},
   "outputs": [],
   "source": [
    "from keras import layers\n",
    "from keras import models\n",
    "\n",
    "model = models.Sequential()\n",
    "model.add(layers.Conv2D(32, (3, 3), activation='relu', input_shape=(150, 150, 3)))\n",
    "model.add(layers.MaxPooling2D((2, 2)))\n",
    "model.add(layers.Conv2D(64, (3, 3), activation='relu'))\n",
    "model.add(layers.MaxPooling2D((2, 2)))\n",
    "model.add(layers.Conv2D(128, (3, 3), activation='relu'))\n",
    "model.add(layers.MaxPooling2D((2, 2)))\n",
    "model.add(layers.Conv2D(128, (3, 3), activation='relu'))\n",
    "model.add(layers.MaxPooling2D((2, 2)))\n",
    "model.add(layers.Flatten())\n",
    "model.add(layers.Dense(512, activation='relu'))\n",
    "model.add(layers.Dense(1, activation='sigmoid')) "
   ]
  },
  {
   "cell_type": "code",
   "execution_count": 7,
   "metadata": {},
   "outputs": [],
   "source": [
    "from keras import optimizers\n",
    "\n",
    "model.compile(optimizer=optimizers.RMSprop(lr=1e-4),\n",
    "              loss='binary_crossentropy',\n",
    "              metrics=['acc'])"
   ]
  },
  {
   "cell_type": "code",
   "execution_count": 8,
   "metadata": {},
   "outputs": [
    {
     "name": "stdout",
     "output_type": "stream",
     "text": [
      "Epoch 1/30\n",
      "100/100 [==============================] - 20s 198ms/step - loss: 0.6890 - acc: 0.5355 - val_loss: 0.6743 - val_acc: 0.5840\n",
      "Epoch 2/30\n",
      "100/100 [==============================] - 13s 135ms/step - loss: 0.6409 - acc: 0.6290 - val_loss: 0.6164 - val_acc: 0.6640\n",
      "Epoch 3/30\n",
      "100/100 [==============================] - 17s 167ms/step - loss: 0.5900 - acc: 0.6775 - val_loss: 0.6072 - val_acc: 0.6590\n",
      "Epoch 4/30\n",
      "100/100 [==============================] - 13s 134ms/step - loss: 0.5550 - acc: 0.7195 - val_loss: 0.5842 - val_acc: 0.6910cc: 0.719\n",
      "Epoch 5/30\n",
      "100/100 [==============================] - 13s 135ms/step - loss: 0.5286 - acc: 0.7340 - val_loss: 0.5821 - val_acc: 0.6830\n",
      "Epoch 6/30\n",
      "100/100 [==============================] - 13s 130ms/step - loss: 0.5004 - acc: 0.7505 - val_loss: 0.5822 - val_acc: 0.6820\n",
      "Epoch 7/30\n",
      "100/100 [==============================] - 13s 129ms/step - loss: 0.4684 - acc: 0.7805 - val_loss: 0.5563 - val_acc: 0.7120\n",
      "Epoch 8/30\n",
      "100/100 [==============================] - 13s 130ms/step - loss: 0.4494 - acc: 0.7920 - val_loss: 0.5661 - val_acc: 0.7030\n",
      "Epoch 9/30\n",
      "100/100 [==============================] - 13s 131ms/step - loss: 0.4222 - acc: 0.8155 - val_loss: 0.5460 - val_acc: 0.7190\n",
      "Epoch 10/30\n",
      "100/100 [==============================] - 13s 130ms/step - loss: 0.4024 - acc: 0.8290 - val_loss: 0.6314 - val_acc: 0.6920\n",
      "Epoch 11/30\n",
      "100/100 [==============================] - 13s 129ms/step - loss: 0.3815 - acc: 0.8390 - val_loss: 0.5423 - val_acc: 0.7300\n",
      "Epoch 12/30\n",
      "100/100 [==============================] - 13s 133ms/step - loss: 0.3471 - acc: 0.8480 - val_loss: 0.5538 - val_acc: 0.7400\n",
      "Epoch 13/30\n",
      "100/100 [==============================] - 13s 129ms/step - loss: 0.3322 - acc: 0.8510 - val_loss: 0.5699 - val_acc: 0.7280\n",
      "Epoch 14/30\n",
      "100/100 [==============================] - 13s 129ms/step - loss: 0.3063 - acc: 0.8720 - val_loss: 0.5829 - val_acc: 0.7100\n",
      "Epoch 15/30\n",
      "100/100 [==============================] - 13s 131ms/step - loss: 0.2894 - acc: 0.8815 - val_loss: 0.5498 - val_acc: 0.7220\n",
      "Epoch 16/30\n",
      "100/100 [==============================] - 13s 131ms/step - loss: 0.2666 - acc: 0.8960 - val_loss: 0.6135 - val_acc: 0.7160\n",
      "Epoch 17/30\n",
      "100/100 [==============================] - 13s 129ms/step - loss: 0.2465 - acc: 0.9035 - val_loss: 0.6479 - val_acc: 0.7260\n",
      "Epoch 18/30\n",
      "100/100 [==============================] - 13s 132ms/step - loss: 0.2187 - acc: 0.9155 - val_loss: 0.6183 - val_acc: 0.7360\n",
      "Epoch 19/30\n",
      "100/100 [==============================] - 13s 127ms/step - loss: 0.1963 - acc: 0.9290 - val_loss: 0.6250 - val_acc: 0.7300\n",
      "Epoch 20/30\n",
      "100/100 [==============================] - 13s 127ms/step - loss: 0.1816 - acc: 0.9320 - val_loss: 0.6708 - val_acc: 0.7280\n",
      "Epoch 21/30\n",
      "100/100 [==============================] - 13s 130ms/step - loss: 0.1652 - acc: 0.9415 - val_loss: 0.7348 - val_acc: 0.7180\n",
      "Epoch 22/30\n",
      "100/100 [==============================] - 13s 130ms/step - loss: 0.1406 - acc: 0.9555 - val_loss: 0.6970 - val_acc: 0.7300\n",
      "Epoch 23/30\n",
      "100/100 [==============================] - 13s 129ms/step - loss: 0.1316 - acc: 0.9540 - val_loss: 0.7680 - val_acc: 0.7250\n",
      "Epoch 24/30\n",
      "100/100 [==============================] - 13s 132ms/step - loss: 0.1063 - acc: 0.9660 - val_loss: 0.7493 - val_acc: 0.7350\n",
      "Epoch 25/30\n",
      "100/100 [==============================] - 13s 128ms/step - loss: 0.0912 - acc: 0.9730 - val_loss: 0.7680 - val_acc: 0.7450\n",
      "Epoch 26/30\n",
      "100/100 [==============================] - 13s 132ms/step - loss: 0.0827 - acc: 0.9790 - val_loss: 0.8558 - val_acc: 0.7310\n",
      "Epoch 27/30\n",
      "100/100 [==============================] - 14s 136ms/step - loss: 0.0747 - acc: 0.9750 - val_loss: 0.8977 - val_acc: 0.7230\n",
      "Epoch 28/30\n",
      "100/100 [==============================] - 13s 129ms/step - loss: 0.0648 - acc: 0.9810 - val_loss: 1.2331 - val_acc: 0.6930\n",
      "Epoch 29/30\n",
      "100/100 [==============================] - 13s 129ms/step - loss: 0.0466 - acc: 0.9920 - val_loss: 0.9854 - val_acc: 0.7220\n",
      "Epoch 30/30\n",
      "100/100 [==============================] - 13s 129ms/step - loss: 0.0372 - acc: 0.9935 - val_loss: 1.0347 - val_acc: 0.7260\n"
     ]
    }
   ],
   "source": [
    "history = model.fit_generator(train_generator,\n",
    "                              steps_per_epoch=100,\n",
    "                              epochs=30,\n",
    "                              validation_data=validation_generator,\n",
    "                              validation_steps=50)"
   ]
  },
  {
   "cell_type": "code",
   "execution_count": 11,
   "metadata": {},
   "outputs": [
    {
     "data": {
      "image/png": "[encoded data removed]",
      "text/plain": [
       "<Figure size 432x288 with 1 Axes>"
      ]
     },
     "metadata": {
      "needs_background": "light"
     },
     "output_type": "display_data"
    },
    {
     "data": {
      "image/png": "[encoded data removed]",
      "text/plain": [
       "<Figure size 432x288 with 1 Axes>"
      ]
     },
     "metadata": {
      "needs_background": "light"
     },
     "output_type": "display_data"
    }
   ],
   "source": [
    "import matplotlib.pyplot as plt\n",
    "import seaborn as sns\n",
    "%matplotlib inline\n",
    "\n",
    "plt.plot(history.history['loss'])\n",
    "plt.plot(history.history['val_loss'])\n",
    "plt.title('model loss')\n",
    "plt.ylabel('loss')\n",
    "plt.xlabel('epoch')\n",
    "plt.legend(['train', 'test'], loc='upper right')\n",
    "plt.show()\n",
    "\n",
    "plt.plot(history.history['acc'])\n",
    "plt.plot(history.history['val_acc'])\n",
    "plt.title('model accuracy')\n",
    "plt.ylabel('accuracy')\n",
    "plt.xlabel('epoch')\n",
    "plt.legend(['train', 'test'], loc='upper right')\n",
    "plt.show()"
   ]
  },
  {
   "cell_type": "code",
   "execution_count": 14,
   "metadata": {},
   "outputs": [
    {
     "name": "stdout",
     "output_type": "stream",
     "text": [
      "validation set min loss:  10\n",
      "validation set max accuracy:  24\n"
     ]
    }
   ],
   "source": [
    "val_loss_min = history.history['val_loss'].index(min(history.history['val_loss']))\n",
    "val_acc_max = history.history['val_acc'].index(max(history.history['val_acc']))\n",
    "print('validation set min loss: ', val_loss_min)\n",
    "print('validation set max accuracy: ', val_acc_max)"
   ]
  },
  {
   "cell_type": "code",
   "execution_count": 30,
   "metadata": {},
   "outputs": [],
   "source": [
    "from keras import layers\n",
    "from keras import models\n",
    "\n",
    "# vgg的做法\n",
    "model = models.Sequential()\n",
    "model.add(layers.Conv2D(32, 3, activation='relu', padding=\"same\", input_shape=(64, 64, 3)))\n",
    "model.add(layers.Conv2D(32, 3, activation='relu', padding=\"same\"))\n",
    "model.add(layers.MaxPooling2D(pool_size=(2, 2)))\n",
    "\n",
    "model.add(layers.Conv2D(64, 3, activation='relu', padding=\"same\"))\n",
    "model.add(layers.Conv2D(64, 3, activation='relu', padding=\"same\"))\n",
    "model.add(layers.MaxPooling2D(pool_size=(2, 2)))\n",
    "\n",
    "model.add(layers.Conv2D(128, 3, activation='relu', padding=\"same\"))\n",
    "model.add(layers.Conv2D(128, 3, activation='relu', padding=\"same\"))\n",
    "model.add(layers.MaxPooling2D(pool_size=(2, 2)))\n",
    "\n",
    "model.add(layers.Conv2D(256, 3, activation='relu', padding=\"same\"))\n",
    "model.add(layers.Conv2D(256, 3, activation='relu', padding=\"same\"))\n",
    "model.add(layers.MaxPooling2D(pool_size=2))\n",
    "\n",
    "model.add(layers.Flatten())\n",
    "model.add(layers.Dense(256, activation='relu'))\n",
    "model.add(layers.Dropout(0.5))\n",
    "model.add(layers.Dense(256, activation='relu'))\n",
    "model.add(layers.Dropout(0.5))\n",
    "model.add(layers.Dense(1, activation='sigmoid'))"
   ]
  },
  {
   "cell_type": "code",
   "execution_count": 31,
   "metadata": {},
   "outputs": [
    {
     "name": "stdout",
     "output_type": "stream",
     "text": [
      "_________________________________________________________________\n",
      "Layer (type)                 Output Shape              Param #   \n",
      "=================================================================\n",
      "conv2d_49 (Conv2D)           (None, 64, 64, 32)        896       \n",
      "_________________________________________________________________\n",
      "conv2d_50 (Conv2D)           (None, 64, 64, 32)        9248      \n",
      "_________________________________________________________________\n",
      "max_pooling2d_25 (MaxPooling (None, 32, 32, 32)        0         \n",
      "_________________________________________________________________\n",
      "conv2d_51 (Conv2D)           (None, 32, 32, 64)        18496     \n",
      "_________________________________________________________________\n",
      "conv2d_52 (Conv2D)           (None, 32, 32, 64)        36928     \n",
      "_________________________________________________________________\n",
      "max_pooling2d_26 (MaxPooling (None, 16, 16, 64)        0         \n",
      "_________________________________________________________________\n",
      "conv2d_53 (Conv2D)           (None, 16, 16, 128)       73856     \n",
      "_________________________________________________________________\n",
      "conv2d_54 (Conv2D)           (None, 16, 16, 128)       147584    \n",
      "_________________________________________________________________\n",
      "max_pooling2d_27 (MaxPooling (None, 8, 8, 128)         0         \n",
      "_________________________________________________________________\n",
      "conv2d_55 (Conv2D)           (None, 8, 8, 256)         295168    \n",
      "_________________________________________________________________\n",
      "conv2d_56 (Conv2D)           (None, 8, 8, 256)         590080    \n",
      "_________________________________________________________________\n",
      "max_pooling2d_28 (MaxPooling (None, 4, 4, 256)         0         \n",
      "_________________________________________________________________\n",
      "flatten_7 (Flatten)          (None, 4096)              0         \n",
      "_________________________________________________________________\n",
      "dense_19 (Dense)             (None, 256)               1048832   \n",
      "_________________________________________________________________\n",
      "dropout_13 (Dropout)         (None, 256)               0         \n",
      "_________________________________________________________________\n",
      "dense_20 (Dense)             (None, 256)               65792     \n",
      "_________________________________________________________________\n",
      "dropout_14 (Dropout)         (None, 256)               0         \n",
      "_________________________________________________________________\n",
      "dense_21 (Dense)             (None, 1)                 257       \n",
      "=================================================================\n",
      "Total params: 2,287,137\n",
      "Trainable params: 2,287,137\n",
      "Non-trainable params: 0\n",
      "_________________________________________________________________\n"
     ]
    }
   ],
   "source": [
    "model.summary()"
   ]
  },
  {
   "cell_type": "code",
   "execution_count": 32,
   "metadata": {},
   "outputs": [],
   "source": [
    "from keras import optimizers\n",
    "\n",
    "model.compile(optimizer=optimizers.RMSprop(lr=1e-4),\n",
    "              loss='binary_crossentropy',\n",
    "              metrics=['acc'])\n",
    "\n",
    "# model.compile(loss='binary_crossentropy', \n",
    "#               optimizer='adam', \n",
    "#               metrics=['accuracy'])"
   ]
  },
  {
   "cell_type": "markdown",
   "metadata": {},
   "source": [
    "### 2.3 训练模型"
   ]
  },
  {
   "cell_type": "code",
   "execution_count": 33,
   "metadata": {},
   "outputs": [
    {
     "name": "stdout",
     "output_type": "stream",
     "text": [
      "Epoch 1/30\n",
      "100/100 [==============================] - 10s 95ms/step - loss: 0.6936 - acc: 0.4975 - val_loss: 0.6927 - val_acc: 0.5030\n",
      "Epoch 2/30\n",
      "100/100 [==============================] - 7s 74ms/step - loss: 0.6928 - acc: 0.5125 - val_loss: 0.6928 - val_acc: 0.5000\n",
      "Epoch 3/30\n",
      "100/100 [==============================] - 7s 75ms/step - loss: 0.6898 - acc: 0.5325 - val_loss: 0.6755 - val_acc: 0.5970\n",
      "Epoch 4/30\n",
      "100/100 [==============================] - 8s 78ms/step - loss: 0.6805 - acc: 0.5635 - val_loss: 0.6590 - val_acc: 0.6000\n",
      "Epoch 5/30\n",
      "100/100 [==============================] - 8s 77ms/step - loss: 0.6634 - acc: 0.6125 - val_loss: 0.6405 - val_acc: 0.6370\n",
      "Epoch 6/30\n",
      "100/100 [==============================] - 8s 77ms/step - loss: 0.6389 - acc: 0.6305 - val_loss: 0.6188 - val_acc: 0.6550\n",
      "Epoch 7/30\n",
      "100/100 [==============================] - 8s 77ms/step - loss: 0.6095 - acc: 0.6690 - val_loss: 0.5825 - val_acc: 0.7000\n",
      "Epoch 8/30\n",
      "100/100 [==============================] - 8s 77ms/step - loss: 0.5994 - acc: 0.6865 - val_loss: 0.5742 - val_acc: 0.6950\n",
      "Epoch 9/30\n",
      "100/100 [==============================] - 8s 77ms/step - loss: 0.5784 - acc: 0.6960 - val_loss: 0.5835 - val_acc: 0.7000\n",
      "Epoch 10/30\n",
      "100/100 [==============================] - 8s 77ms/step - loss: 0.5621 - acc: 0.7055 - val_loss: 0.6460 - val_acc: 0.6530\n",
      "Epoch 11/30\n",
      "100/100 [==============================] - 8s 79ms/step - loss: 0.5503 - acc: 0.7315 - val_loss: 0.6073 - val_acc: 0.6870: 0.5568 - \n",
      "Epoch 12/30\n",
      "100/100 [==============================] - 8s 81ms/step - loss: 0.5256 - acc: 0.7395 - val_loss: 0.5956 - val_acc: 0.7050\n",
      "Epoch 13/30\n",
      "100/100 [==============================] - 8s 79ms/step - loss: 0.5238 - acc: 0.7415 - val_loss: 0.5363 - val_acc: 0.7310\n",
      "Epoch 14/30\n",
      "100/100 [==============================] - 8s 77ms/step - loss: 0.5020 - acc: 0.7660 - val_loss: 0.5234 - val_acc: 0.7260\n",
      "Epoch 15/30\n",
      "100/100 [==============================] - 8s 78ms/step - loss: 0.4787 - acc: 0.7770 - val_loss: 0.5304 - val_acc: 0.7320\n",
      "Epoch 16/30\n",
      "100/100 [==============================] - 8s 79ms/step - loss: 0.4642 - acc: 0.7875 - val_loss: 0.5261 - val_acc: 0.7320\n",
      "Epoch 17/30\n",
      "100/100 [==============================] - 8s 79ms/step - loss: 0.4490 - acc: 0.7970 - val_loss: 0.5188 - val_acc: 0.7440\n",
      "Epoch 18/30\n",
      "100/100 [==============================] - 8s 80ms/step - loss: 0.4228 - acc: 0.8150 - val_loss: 0.5617 - val_acc: 0.7320\n",
      "Epoch 19/30\n",
      "100/100 [==============================] - 8s 79ms/step - loss: 0.4077 - acc: 0.8225 - val_loss: 0.5662 - val_acc: 0.7490\n",
      "Epoch 20/30\n",
      "100/100 [==============================] - 8s 77ms/step - loss: 0.3733 - acc: 0.8355 - val_loss: 0.5196 - val_acc: 0.7460\n",
      "Epoch 21/30\n",
      "100/100 [==============================] - 8s 77ms/step - loss: 0.3480 - acc: 0.8540 - val_loss: 0.5254 - val_acc: 0.7600\n",
      "Epoch 22/30\n",
      "100/100 [==============================] - 8s 77ms/step - loss: 0.3290 - acc: 0.8600 - val_loss: 0.5146 - val_acc: 0.7540\n",
      "Epoch 23/30\n",
      "100/100 [==============================] - 8s 77ms/step - loss: 0.3102 - acc: 0.8695 - val_loss: 0.6277 - val_acc: 0.7370\n",
      "Epoch 24/30\n",
      "100/100 [==============================] - 8s 78ms/step - loss: 0.2702 - acc: 0.8905 - val_loss: 0.6216 - val_acc: 0.7490\n",
      "Epoch 25/30\n",
      "100/100 [==============================] - 8s 77ms/step - loss: 0.2484 - acc: 0.9030 - val_loss: 0.6004 - val_acc: 0.7540\n",
      "Epoch 26/30\n",
      "100/100 [==============================] - 8s 78ms/step - loss: 0.2178 - acc: 0.9140 - val_loss: 0.6769 - val_acc: 0.7630\n",
      "Epoch 27/30\n",
      "100/100 [==============================] - 8s 79ms/step - loss: 0.1994 - acc: 0.9230 - val_loss: 0.6660 - val_acc: 0.7590\n",
      "Epoch 28/30\n",
      "100/100 [==============================] - 8s 79ms/step - loss: 0.1796 - acc: 0.9295 - val_loss: 0.7343 - val_acc: 0.7440\n",
      "Epoch 29/30\n",
      "100/100 [==============================] - 8s 77ms/step - loss: 0.1442 - acc: 0.9465 - val_loss: 0.8302 - val_acc: 0.7340\n",
      "Epoch 30/30\n",
      "100/100 [==============================] - 8s 77ms/step - loss: 0.1350 - acc: 0.9470 - val_loss: 0.7483 - val_acc: 0.7600\n"
     ]
    }
   ],
   "source": [
    "history = model.fit_generator(train_generator,\n",
    "                              steps_per_epoch=100,\n",
    "                              epochs=30,\n",
    "                              validation_data=validation_generator,\n",
    "                              validation_steps=50)"
   ]
  },
  {
   "cell_type": "markdown",
   "metadata": {},
   "source": [
    "### 2.4 画出表现"
   ]
  },
  {
   "cell_type": "code",
   "execution_count": 35,
   "metadata": {},
   "outputs": [
    {
     "data": {
      "image/png": "[encoded data removed]",
      "text/plain": [
       "<Figure size 432x288 with 1 Axes>"
      ]
     },
     "metadata": {
      "needs_background": "light"
     },
     "output_type": "display_data"
    },
    {
     "data": {
      "image/png": "[encoded data removed]",
      "text/plain": [
       "<Figure size 432x288 with 1 Axes>"
      ]
     },
     "metadata": {
      "needs_background": "light"
     },
     "output_type": "display_data"
    }
   ],
   "source": [
    "import matplotlib.pyplot as plt\n",
    "import seaborn as sns\n",
    "%matplotlib inline\n",
    "\n",
    "acc = history.history['acc']\n",
    "val_acc = history.history['val_acc']\n",
    "loss = history.history['loss']\n",
    "val_loss = history.history['val_loss']\n",
    "\n",
    "epochs = range(len(acc))\n",
    "\n",
    "plt.plot(epochs, acc, 'bo', label='Training acc')\n",
    "plt.plot(epochs, val_acc, 'b', label='Validation acc')\n",
    "plt.title('Training and validation accuracy')\n",
    "plt.legend()\n",
    "\n",
    "plt.figure()\n",
    "\n",
    "plt.plot(epochs, loss, 'bo', label='Training loss')\n",
    "plt.plot(epochs, val_loss, 'b', label='Validation loss')\n",
    "plt.title('Training and validation loss')\n",
    "plt.legend()\n",
    "\n",
    "plt.show()"
   ]
  },
  {
   "cell_type": "code",
   "execution_count": 36,
   "metadata": {},
   "outputs": [
    {
     "name": "stdout",
     "output_type": "stream",
     "text": [
      "validation set min loss:  21\n",
      "validation set max accuracy:  25\n"
     ]
    }
   ],
   "source": [
    "val_loss_min = val_loss.index(min(val_loss))\n",
    "val_acc_max = val_acc.index(max(val_acc))\n",
    "print('validation set min loss: ', val_loss_min)\n",
    "print('validation set max accuracy: ', val_acc_max)"
   ]
  },
  {
   "cell_type": "markdown",
   "metadata": {},
   "source": [
    "### 2.5 测试集表现"
   ]
  },
  {
   "cell_type": "code",
   "execution_count": 37,
   "metadata": {},
   "outputs": [
    {
     "name": "stdout",
     "output_type": "stream",
     "text": [
      "Large CNN Error: 26.80%\n"
     ]
    }
   ],
   "source": [
    "scores = model.evaluate_generator(test_generator, verbose=0)\n",
    "print(\"Large CNN Error: %.2f%%\" % (100 - scores[1] * 100))"
   ]
  },
  {
   "cell_type": "markdown",
   "metadata": {},
   "source": [
    "## 3. 模型二 使用数据增强来防止过拟合"
   ]
  },
  {
   "cell_type": "markdown",
   "metadata": {},
   "source": [
    "### 3.1 数据增强示例"
   ]
  },
  {
   "cell_type": "code",
   "execution_count": null,
   "metadata": {},
   "outputs": [],
   "source": [
    "datagen = ImageDataGenerator(\n",
    "      rotation_range=40,    # 角度值（在 0~180 范围内），表示图像随机旋转的角度范围\n",
    "      width_shift_range=0.2,    # 图像在水平或垂直方向上平移的范围\n",
    "      height_shift_range=0.2,    # （相对于总宽度或总高度的比例）\n",
    "      shear_range=0.2,    # 随机错切变换的角度\n",
    "      zoom_range=0.2,    # 图像随机缩放的范围\n",
    "      horizontal_flip=True,    # 随机将一半图像水平翻转\n",
    "      fill_mode='nearest')    # 用于填充新创建像素的方法，\n",
    "                              # 这些新像素可能来自于旋转或宽度/高度平移"
   ]
  },
  {
   "cell_type": "code",
   "execution_count": null,
   "metadata": {},
   "outputs": [],
   "source": [
    "# This is module with image preprocessing utilities\n",
    "from keras.preprocessing import image\n",
    "\n",
    "fnames = [os.path.join(train_cats_dir, fname) for fname in os.listdir(train_cats_dir)]\n",
    "\n",
    "# We pick one image to \"augment\"\n",
    "img_path = fnames[3]\n",
    "\n",
    "# Read the image and resize it\n",
    "img = image.load_img(img_path, target_size=(150, 150))\n",
    "\n",
    "imgplot_oringe = plt.imshow(img)\n",
    "\n",
    "# Convert it to a Numpy array with shape (150, 150, 3)\n",
    "x = image.img_to_array(img)\n",
    "\n",
    "# Reshape it to (1, 150, 150, 3)\n",
    "x = x.reshape((1,) + x.shape)\n",
    "\n",
    "# The .flow() command below generates batches of randomly transformed images.\n",
    "# It will loop indefinitely, so we need to `break` the loop at some point!\n",
    "i = 0\n",
    "for batch in datagen.flow(x, batch_size=1):\n",
    "    plt.figure(i)\n",
    "    imgplot = plt.imshow(image.array_to_img(batch[0]))\n",
    "    i += 1\n",
    "    if i % 4 == 0:\n",
    "        break\n",
    "\n",
    "plt.show()"
   ]
  },
  {
   "cell_type": "markdown",
   "metadata": {},
   "source": [
    "### 3.2 定义数据增强"
   ]
  },
  {
   "cell_type": "code",
   "execution_count": null,
   "metadata": {},
   "outputs": [],
   "source": [
    "train_datagen = ImageDataGenerator(\n",
    "    rescale=1./255,\n",
    "    rotation_range=40,\n",
    "    width_shift_range=0.2,\n",
    "    height_shift_range=0.2,\n",
    "    shear_range=0.2,\n",
    "    zoom_range=0.2,\n",
    "    horizontal_flip=True,)\n",
    "\n",
    "# Note that the validation data should not be augmented!\n",
    "test_datagen = ImageDataGenerator(rescale=1./255)    # 注意，不能增强验证数据\n",
    "\n",
    "train_generator = train_datagen.flow_from_directory(\n",
    "        # This is the target directory\n",
    "        train_dir,\n",
    "        # All images will be resized to 150x150\n",
    "        target_size=(150, 150),\n",
    "        batch_size=32,\n",
    "        # Since we use binary_crossentropy loss, we need binary labels\n",
    "        class_mode='binary')\n",
    "\n",
    "validation_generator = test_datagen.flow_from_directory(\n",
    "        validation_dir,\n",
    "        target_size=(150, 150),\n",
    "        batch_size=32,\n",
    "        class_mode='binary')"
   ]
  },
  {
   "cell_type": "markdown",
   "metadata": {},
   "source": [
    "### 3.3 训练网络"
   ]
  },
  {
   "cell_type": "code",
   "execution_count": null,
   "metadata": {},
   "outputs": [],
   "source": [
    "model = models.Sequential()\n",
    "model.add(layers.Conv2D(32, 3, activation='relu', padding=\"same\", input_shape=(150, 150, 3)))\n",
    "model.add(layers.Conv2D(32, 3, activation='relu', padding=\"same\"))\n",
    "model.add(layers.MaxPooling2D(pool_size=(2, 2)))\n",
    "\n",
    "model.add(layers.Conv2D(64, 3, activation='relu', padding=\"same\"))\n",
    "model.add(layers.Conv2D(64, 3, activation='relu', padding=\"same\"))\n",
    "model.add(layers.MaxPooling2D(pool_size=(2, 2)))\n",
    "\n",
    "model.add(layers.Conv2D(128, 3, activation='relu', padding=\"same\"))\n",
    "model.add(layers.Conv2D(128, 3, activation='relu', padding=\"same\"))\n",
    "model.add(layers.MaxPooling2D(pool_size=(2, 2)))\n",
    "\n",
    "model.add(layers.Conv2D(256, 3, activation='relu', padding=\"same\"))\n",
    "model.add(layers.Conv2D(256, 3, activation='relu', padding=\"same\"))\n",
    "model.add(layers.MaxPooling2D(pool_size=2))\n",
    "\n",
    "model.add(layers.Flatten())\n",
    "model.add(layers.Dense(256, activation='relu'))\n",
    "model.add(layers.Dropout(0.5))\n",
    "model.add(layers.Dense(256, activation='relu'))\n",
    "model.add(layers.Dropout(0.5))\n",
    "model.add(layers.Dense(1, activation='sigmoid'))"
   ]
  },
  {
   "cell_type": "code",
   "execution_count": null,
   "metadata": {},
   "outputs": [],
   "source": [
    "# model.compile(optimizer=optimizers.RMSprop(lr=1e-4),\n",
    "#               loss='binary_crossentropy',\n",
    "#               metrics=['acc'])\n",
    "\n",
    "model.compile(loss='binary_crossentropy', \n",
    "              optimizer='adam', \n",
    "              metrics=['accuracy'])"
   ]
  },
  {
   "cell_type": "code",
   "execution_count": null,
   "metadata": {},
   "outputs": [],
   "source": [
    "history = model.fit_generator(train_generator,\n",
    "                              steps_per_epoch=100,    # 训练集分成100批送进去，相当于每批送20个\n",
    "                              epochs=100,    # 循环100遍\n",
    "                              validation_data=validation_generator,\n",
    "                              validation_steps=50,    # 验证集分50批送进去，每批20个\n",
    "                              verbose=0)"
   ]
  },
  {
   "cell_type": "markdown",
   "metadata": {},
   "source": [
    "### 3.4 画出表现"
   ]
  },
  {
   "cell_type": "code",
   "execution_count": null,
   "metadata": {},
   "outputs": [],
   "source": [
    "acc = history.history['acc']\n",
    "val_acc = history.history['val_acc']\n",
    "loss = history.history['loss']\n",
    "val_loss = history.history['val_loss']\n",
    "\n",
    "epochs = range(len(acc))\n",
    "\n",
    "plt.plot(epochs, acc, 'bo', label='Training acc')\n",
    "plt.plot(epochs, val_acc, 'b', label='Validation acc')\n",
    "plt.title('Training and validation accuracy')\n",
    "plt.legend()\n",
    "\n",
    "plt.figure()\n",
    "\n",
    "plt.plot(epochs, loss, 'bo', label='Training loss')\n",
    "plt.plot(epochs, val_loss, 'b', label='Validation loss')\n",
    "plt.title('Training and validation loss')\n",
    "plt.legend()\n",
    "\n",
    "plt.show()"
   ]
  },
  {
   "cell_type": "code",
   "execution_count": null,
   "metadata": {},
   "outputs": [],
   "source": [
    "val_loss_min = val_loss.index(min(val_loss))\n",
    "val_acc_max = val_acc.index(max(val_acc))\n",
    "print('validation set min loss: ', val_loss_min)\n",
    "print('validation set max accuracy: ', val_acc_max)"
   ]
  },
  {
   "cell_type": "code",
   "execution_count": null,
   "metadata": {},
   "outputs": [],
   "source": [
    "# train_datagen = ImageDataGenerator(rotation_range=40,\n",
    "#                                    width_shift_range=0.2,\n",
    "#                                    height_shift_range=0.2,\n",
    "#                                    shear_range=0.2,\n",
    "#                                    zoom_range=0.2,\n",
    "#                                    horizontal_flip=True,\n",
    "#                                    fill_mode='nearest')\n",
    "\n",
    "\n",
    "# train_datagen.fit(train_X)\n",
    "# train_generator = train_datagen.flow(train_X, train_y, \n",
    "#                                      batch_size = 64)"
   ]
  },
  {
   "cell_type": "code",
   "execution_count": null,
   "metadata": {},
   "outputs": [],
   "source": [
    "# history = model_vgg16.fit_generator(train_generator, \n",
    "#                                     validation_data = (test_X, test_y), \n",
    "#                                     steps_per_epoch = train_X.shape[0] / 100, \n",
    "#                                     epochs = 10)"
   ]
  },
  {
   "cell_type": "markdown",
   "metadata": {},
   "source": [
    "## 4. 使用预训练的VGG-16"
   ]
  },
  {
   "cell_type": "markdown",
   "metadata": {},
   "source": [
    "![swapping FC classifiers](https://s3.amazonaws.com/book.keras.io/img/ch5/swapping_fc_classifier.png)"
   ]
  },
  {
   "cell_type": "code",
   "execution_count": 38,
   "metadata": {},
   "outputs": [],
   "source": [
    "from keras.applications import VGG16\n",
    "\n",
    "conv_base = VGG16(weights='imagenet',\n",
    "                  include_top=False,    # 不要分类层\n",
    "                  input_shape=(150, 150, 3))"
   ]
  },
  {
   "cell_type": "code",
   "execution_count": 39,
   "metadata": {},
   "outputs": [
    {
     "name": "stdout",
     "output_type": "stream",
     "text": [
      "_________________________________________________________________\n",
      "Layer (type)                 Output Shape              Param #   \n",
      "=================================================================\n",
      "input_1 (InputLayer)         (None, 150, 150, 3)       0         \n",
      "_________________________________________________________________\n",
      "block1_conv1 (Conv2D)        (None, 150, 150, 64)      1792      \n",
      "_________________________________________________________________\n",
      "block1_conv2 (Conv2D)        (None, 150, 150, 64)      36928     \n",
      "_________________________________________________________________\n",
      "block1_pool (MaxPooling2D)   (None, 75, 75, 64)        0         \n",
      "_________________________________________________________________\n",
      "block2_conv1 (Conv2D)        (None, 75, 75, 128)       73856     \n",
      "_________________________________________________________________\n",
      "block2_conv2 (Conv2D)        (None, 75, 75, 128)       147584    \n",
      "_________________________________________________________________\n",
      "block2_pool (MaxPooling2D)   (None, 37, 37, 128)       0         \n",
      "_________________________________________________________________\n",
      "block3_conv1 (Conv2D)        (None, 37, 37, 256)       295168    \n",
      "_________________________________________________________________\n",
      "block3_conv2 (Conv2D)        (None, 37, 37, 256)       590080    \n",
      "_________________________________________________________________\n",
      "block3_conv3 (Conv2D)        (None, 37, 37, 256)       590080    \n",
      "_________________________________________________________________\n",
      "block3_pool (MaxPooling2D)   (None, 18, 18, 256)       0         \n",
      "_________________________________________________________________\n",
      "block4_conv1 (Conv2D)        (None, 18, 18, 512)       1180160   \n",
      "_________________________________________________________________\n",
      "block4_conv2 (Conv2D)        (None, 18, 18, 512)       2359808   \n",
      "_________________________________________________________________\n",
      "block4_conv3 (Conv2D)        (None, 18, 18, 512)       2359808   \n",
      "_________________________________________________________________\n",
      "block4_pool (MaxPooling2D)   (None, 9, 9, 512)         0         \n",
      "_________________________________________________________________\n",
      "block5_conv1 (Conv2D)        (None, 9, 9, 512)         2359808   \n",
      "_________________________________________________________________\n",
      "block5_conv2 (Conv2D)        (None, 9, 9, 512)         2359808   \n",
      "_________________________________________________________________\n",
      "block5_conv3 (Conv2D)        (None, 9, 9, 512)         2359808   \n",
      "_________________________________________________________________\n",
      "block5_pool (MaxPooling2D)   (None, 4, 4, 512)         0         \n",
      "=================================================================\n",
      "Total params: 14,714,688\n",
      "Trainable params: 14,714,688\n",
      "Non-trainable params: 0\n",
      "_________________________________________________________________\n"
     ]
    }
   ],
   "source": [
    "conv_base.summary()"
   ]
  },
  {
   "cell_type": "code",
   "execution_count": 40,
   "metadata": {},
   "outputs": [],
   "source": [
    "from keras import models\n",
    "from keras import layers\n",
    "\n",
    "model = models.Sequential()\n",
    "model.add(conv_base)\n",
    "model.add(layers.Flatten())\n",
    "model.add(layers.Dense(256, activation='relu'))\n",
    "model.add(layers.Dense(1, activation='sigmoid'))\n",
    "\n",
    "# model = models.Sequential()\n",
    "# model.add(conv_base)\n",
    "# model.add(layers.Dense(256, activation='relu'))\n",
    "# model.add(layers.Dropout(0.5))\n",
    "# model.add(layers.Dense(256, activation='relu'))\n",
    "# model.add(layers.Dropout(0.5))\n",
    "# model.add(layers.Dense(1, activation='sigmoid'))"
   ]
  },
  {
   "cell_type": "code",
   "execution_count": 41,
   "metadata": {},
   "outputs": [
    {
     "name": "stdout",
     "output_type": "stream",
     "text": [
      "This is the number of trainable weights before freezing the conv base: 30\n"
     ]
    }
   ],
   "source": [
    "print('This is the number of trainable weights '\n",
    "      'before freezing the conv base:', len(model.trainable_weights))"
   ]
  },
  {
   "cell_type": "code",
   "execution_count": 42,
   "metadata": {},
   "outputs": [],
   "source": [
    "conv_base.trainable = False"
   ]
  },
  {
   "cell_type": "code",
   "execution_count": 43,
   "metadata": {},
   "outputs": [
    {
     "name": "stdout",
     "output_type": "stream",
     "text": [
      "This is the number of trainable weights after freezing the conv base: 4\n"
     ]
    }
   ],
   "source": [
    "print('This is the number of trainable weights '\n",
    "      'after freezing the conv base:', len(model.trainable_weights))"
   ]
  },
  {
   "cell_type": "code",
   "execution_count": 44,
   "metadata": {},
   "outputs": [
    {
     "name": "stdout",
     "output_type": "stream",
     "text": [
      "Found 2000 images belonging to 2 classes.\n",
      "Found 1000 images belonging to 2 classes.\n"
     ]
    }
   ],
   "source": [
    "from keras.preprocessing.image import ImageDataGenerator\n",
    "from keras import optimizers\n",
    "\n",
    "train_datagen = ImageDataGenerator(\n",
    "      rescale=1./255,\n",
    "      rotation_range=40,\n",
    "      width_shift_range=0.2,\n",
    "      height_shift_range=0.2,\n",
    "      shear_range=0.2,\n",
    "      zoom_range=0.2,\n",
    "      horizontal_flip=True,\n",
    "      fill_mode='nearest')\n",
    "\n",
    "# Note that the validation data should not be augmented!\n",
    "test_datagen = ImageDataGenerator(rescale=1./255)\n",
    "\n",
    "train_generator = train_datagen.flow_from_directory(\n",
    "        # This is the target directory\n",
    "        train_dir,\n",
    "        # All images will be resized to 150x150\n",
    "        target_size=(150, 150),\n",
    "        batch_size=20,\n",
    "        # Since we use binary_crossentropy loss, we need binary labels\n",
    "        class_mode='binary')\n",
    "\n",
    "validation_generator = test_datagen.flow_from_directory(\n",
    "        validation_dir,\n",
    "        target_size=(150, 150),\n",
    "        batch_size=20,\n",
    "        class_mode='binary')\n",
    "\n",
    "model.compile(loss='binary_crossentropy',\n",
    "              optimizer=optimizers.RMSprop(lr=2e-5),\n",
    "              metrics=['acc'])"
   ]
  },
  {
   "cell_type": "code",
   "execution_count": 45,
   "metadata": {},
   "outputs": [
    {
     "name": "stdout",
     "output_type": "stream",
     "text": [
      "Epoch 1/30\n",
      " - 53s - loss: 0.5863 - acc: 0.6990 - val_loss: 0.4363 - val_acc: 0.8500\n",
      "Epoch 2/30\n",
      " - 50s - loss: 0.4633 - acc: 0.7980 - val_loss: 0.3560 - val_acc: 0.8700\n",
      "Epoch 3/30\n",
      " - 50s - loss: 0.4333 - acc: 0.8100 - val_loss: 0.3234 - val_acc: 0.8810\n",
      "Epoch 4/30\n",
      " - 50s - loss: 0.4006 - acc: 0.8205 - val_loss: 0.3094 - val_acc: 0.8730\n",
      "Epoch 5/30\n",
      " - 50s - loss: 0.3862 - acc: 0.8340 - val_loss: 0.2931 - val_acc: 0.8830\n",
      "Epoch 6/30\n",
      " - 50s - loss: 0.3645 - acc: 0.8430 - val_loss: 0.2816 - val_acc: 0.8890\n",
      "Epoch 7/30\n",
      " - 50s - loss: 0.3560 - acc: 0.8405 - val_loss: 0.2764 - val_acc: 0.8880\n",
      "Epoch 8/30\n",
      " - 50s - loss: 0.3450 - acc: 0.8460 - val_loss: 0.2675 - val_acc: 0.8990\n",
      "Epoch 9/30\n",
      " - 50s - loss: 0.3500 - acc: 0.8370 - val_loss: 0.2641 - val_acc: 0.8960\n",
      "Epoch 10/30\n",
      " - 50s - loss: 0.3402 - acc: 0.8515 - val_loss: 0.2661 - val_acc: 0.8920\n",
      "Epoch 11/30\n",
      " - 50s - loss: 0.3302 - acc: 0.8610 - val_loss: 0.2608 - val_acc: 0.8930\n",
      "Epoch 12/30\n",
      " - 50s - loss: 0.3248 - acc: 0.8570 - val_loss: 0.2545 - val_acc: 0.8960\n",
      "Epoch 13/30\n",
      " - 50s - loss: 0.3133 - acc: 0.8680 - val_loss: 0.2532 - val_acc: 0.8950\n",
      "Epoch 14/30\n",
      " - 50s - loss: 0.3172 - acc: 0.8610 - val_loss: 0.2519 - val_acc: 0.9010\n",
      "Epoch 15/30\n",
      " - 50s - loss: 0.3173 - acc: 0.8625 - val_loss: 0.2491 - val_acc: 0.8990\n",
      "Epoch 16/30\n",
      " - 50s - loss: 0.3015 - acc: 0.8645 - val_loss: 0.2487 - val_acc: 0.8970\n",
      "Epoch 17/30\n",
      " - 50s - loss: 0.3218 - acc: 0.8635 - val_loss: 0.2533 - val_acc: 0.8960\n",
      "Epoch 18/30\n",
      " - 50s - loss: 0.3101 - acc: 0.8665 - val_loss: 0.2505 - val_acc: 0.9030\n",
      "Epoch 19/30\n",
      " - 50s - loss: 0.2936 - acc: 0.8705 - val_loss: 0.2476 - val_acc: 0.9020\n",
      "Epoch 20/30\n",
      " - 50s - loss: 0.3029 - acc: 0.8655 - val_loss: 0.2459 - val_acc: 0.8990\n",
      "Epoch 21/30\n",
      " - 50s - loss: 0.3025 - acc: 0.8670 - val_loss: 0.2551 - val_acc: 0.8950\n",
      "Epoch 22/30\n",
      " - 50s - loss: 0.3077 - acc: 0.8695 - val_loss: 0.2476 - val_acc: 0.8990\n",
      "Epoch 23/30\n",
      " - 50s - loss: 0.2763 - acc: 0.8830 - val_loss: 0.2494 - val_acc: 0.9050\n",
      "Epoch 24/30\n",
      " - 50s - loss: 0.2951 - acc: 0.8735 - val_loss: 0.2507 - val_acc: 0.9020\n",
      "Epoch 25/30\n",
      " - 50s - loss: 0.2870 - acc: 0.8710 - val_loss: 0.2439 - val_acc: 0.8990\n",
      "Epoch 26/30\n",
      " - 50s - loss: 0.2923 - acc: 0.8690 - val_loss: 0.2428 - val_acc: 0.9000\n",
      "Epoch 27/30\n",
      " - 50s - loss: 0.2842 - acc: 0.8760 - val_loss: 0.2494 - val_acc: 0.8970\n",
      "Epoch 28/30\n",
      " - 50s - loss: 0.2727 - acc: 0.8820 - val_loss: 0.2534 - val_acc: 0.8910\n",
      "Epoch 29/30\n",
      " - 50s - loss: 0.2749 - acc: 0.8800 - val_loss: 0.2432 - val_acc: 0.8980\n",
      "Epoch 30/30\n",
      " - 50s - loss: 0.2750 - acc: 0.8800 - val_loss: 0.2451 - val_acc: 0.9020\n"
     ]
    }
   ],
   "source": [
    "history = model.fit_generator(\n",
    "      train_generator,\n",
    "      steps_per_epoch=100,\n",
    "      epochs=30,\n",
    "      validation_data=validation_generator,\n",
    "      validation_steps=50,\n",
    "      verbose=2)"
   ]
  },
  {
   "cell_type": "code",
   "execution_count": 46,
   "metadata": {},
   "outputs": [
    {
     "data": {
      "image/png": "[encoded data removed]",
      "text/plain": [
       "<Figure size 432x288 with 1 Axes>"
      ]
     },
     "metadata": {
      "needs_background": "light"
     },
     "output_type": "display_data"
    },
    {
     "data": {
      "image/png": "[encoded data removed]",
      "text/plain": [
       "<Figure size 432x288 with 1 Axes>"
      ]
     },
     "metadata": {
      "needs_background": "light"
     },
     "output_type": "display_data"
    }
   ],
   "source": [
    "acc = history.history['acc']\n",
    "val_acc = history.history['val_acc']\n",
    "loss = history.history['loss']\n",
    "val_loss = history.history['val_loss']\n",
    "\n",
    "epochs = range(len(acc))\n",
    "\n",
    "plt.plot(epochs, acc, 'bo', label='Training acc')\n",
    "plt.plot(epochs, val_acc, 'b', label='Validation acc')\n",
    "plt.title('Training and validation accuracy')\n",
    "plt.legend()\n",
    "\n",
    "plt.figure()\n",
    "\n",
    "plt.plot(epochs, loss, 'bo', label='Training loss')\n",
    "plt.plot(epochs, val_loss, 'b', label='Validation loss')\n",
    "plt.title('Training and validation loss')\n",
    "plt.legend()\n",
    "\n",
    "plt.show()"
   ]
  },
  {
   "cell_type": "code",
   "execution_count": 47,
   "metadata": {},
   "outputs": [
    {
     "name": "stdout",
     "output_type": "stream",
     "text": [
      "validation set min loss:  25\n",
      "validation set max accuracy:  22\n"
     ]
    }
   ],
   "source": [
    "val_loss_min = val_loss.index(min(val_loss))\n",
    "val_acc_max = val_acc.index(max(val_acc))\n",
    "print('validation set min loss: ', val_loss_min)\n",
    "print('validation set max accuracy: ', val_acc_max)"
   ]
  },
  {
   "cell_type": "markdown",
   "metadata": {},
   "source": [
    "## Fine-tuning"
   ]
  },
  {
   "cell_type": "markdown",
   "metadata": {},
   "source": [
    "![fine-tuning VGG16](https://s3.amazonaws.com/book.keras.io/img/ch5/vgg16_fine_tuning.png)"
   ]
  },
  {
   "cell_type": "code",
   "execution_count": 48,
   "metadata": {},
   "outputs": [
    {
     "name": "stdout",
     "output_type": "stream",
     "text": [
      "_________________________________________________________________\n",
      "Layer (type)                 Output Shape              Param #   \n",
      "=================================================================\n",
      "input_1 (InputLayer)         (None, 150, 150, 3)       0         \n",
      "_________________________________________________________________\n",
      "block1_conv1 (Conv2D)        (None, 150, 150, 64)      1792      \n",
      "_________________________________________________________________\n",
      "block1_conv2 (Conv2D)        (None, 150, 150, 64)      36928     \n",
      "_________________________________________________________________\n",
      "block1_pool (MaxPooling2D)   (None, 75, 75, 64)        0         \n",
      "_________________________________________________________________\n",
      "block2_conv1 (Conv2D)        (None, 75, 75, 128)       73856     \n",
      "_________________________________________________________________\n",
      "block2_conv2 (Conv2D)        (None, 75, 75, 128)       147584    \n",
      "_________________________________________________________________\n",
      "block2_pool (MaxPooling2D)   (None, 37, 37, 128)       0         \n",
      "_________________________________________________________________\n",
      "block3_conv1 (Conv2D)        (None, 37, 37, 256)       295168    \n",
      "_________________________________________________________________\n",
      "block3_conv2 (Conv2D)        (None, 37, 37, 256)       590080    \n",
      "_________________________________________________________________\n",
      "block3_conv3 (Conv2D)        (None, 37, 37, 256)       590080    \n",
      "_________________________________________________________________\n",
      "block3_pool (MaxPooling2D)   (None, 18, 18, 256)       0         \n",
      "_________________________________________________________________\n",
      "block4_conv1 (Conv2D)        (None, 18, 18, 512)       1180160   \n",
      "_________________________________________________________________\n",
      "block4_conv2 (Conv2D)        (None, 18, 18, 512)       2359808   \n",
      "_________________________________________________________________\n",
      "block4_conv3 (Conv2D)        (None, 18, 18, 512)       2359808   \n",
      "_________________________________________________________________\n",
      "block4_pool (MaxPooling2D)   (None, 9, 9, 512)         0         \n",
      "_________________________________________________________________\n",
      "block5_conv1 (Conv2D)        (None, 9, 9, 512)         2359808   \n",
      "_________________________________________________________________\n",
      "block5_conv2 (Conv2D)        (None, 9, 9, 512)         2359808   \n",
      "_________________________________________________________________\n",
      "block5_conv3 (Conv2D)        (None, 9, 9, 512)         2359808   \n",
      "_________________________________________________________________\n",
      "block5_pool (MaxPooling2D)   (None, 4, 4, 512)         0         \n",
      "=================================================================\n",
      "Total params: 14,714,688\n",
      "Trainable params: 0\n",
      "Non-trainable params: 14,714,688\n",
      "_________________________________________________________________\n"
     ]
    }
   ],
   "source": [
    "conv_base.summary()"
   ]
  },
  {
   "cell_type": "code",
   "execution_count": 49,
   "metadata": {},
   "outputs": [],
   "source": [
    "conv_base.trainable = True\n",
    "\n",
    "set_trainable = False\n",
    "for layer in conv_base.layers:\n",
    "    if layer.name == 'block5_conv1':\n",
    "        set_trainable = True\n",
    "    if set_trainable:\n",
    "        layer.trainable = True\n",
    "    else:\n",
    "        layer.trainable = False"
   ]
  },
  {
   "cell_type": "code",
   "execution_count": null,
   "metadata": {},
   "outputs": [],
   "source": [
    "model.summary()"
   ]
  },
  {
   "cell_type": "code",
   "execution_count": null,
   "metadata": {},
   "outputs": [],
   "source": [
    "model.compile(optimizer=optimizers.RMSprop(lr=1e-5),\n",
    "              loss='binary_crossentropy',              \n",
    "              metrics=['acc'])\n",
    "\n",
    "history = model.fit_generator(train_generator,\n",
    "                              steps_per_epoch=100,\n",
    "                              epochs=100,\n",
    "                              validation_data=validation_generator,\n",
    "                              validation_steps=50,\n",
    "                              verbose=0)"
   ]
  },
  {
   "cell_type": "code",
   "execution_count": null,
   "metadata": {},
   "outputs": [],
   "source": [
    "acc = history.history['acc']\n",
    "val_acc = history.history['val_acc']\n",
    "loss = history.history['loss']\n",
    "val_loss = history.history['val_loss']\n",
    "\n",
    "epochs = range(len(acc))\n",
    "\n",
    "plt.plot(epochs, acc, 'bo', label='Training acc')\n",
    "plt.plot(epochs, val_acc, 'b', label='Validation acc')\n",
    "plt.title('Training and validation accuracy')\n",
    "plt.legend()\n",
    "\n",
    "plt.figure()\n",
    "\n",
    "plt.plot(epochs, loss, 'bo', label='Training loss')\n",
    "plt.plot(epochs, val_loss, 'b', label='Validation loss')\n",
    "plt.title('Training and validation loss')\n",
    "plt.legend()\n",
    "\n",
    "plt.show()"
   ]
  },
  {
   "cell_type": "code",
   "execution_count": null,
   "metadata": {},
   "outputs": [],
   "source": [
    "def smooth_curve(points, factor=0.8):\n",
    "    smoothed_points = []\n",
    "    for point in points:\n",
    "        if smoothed_points:\n",
    "            previous = smoothed_points[-1]\n",
    "            smoothed_points.append(previous * factor + point * (1 - factor))\n",
    "        else:\n",
    "            smoothed_points.append(point)\n",
    "    return smoothed_points\n",
    "\n",
    "plt.plot(epochs,\n",
    "         smooth_curve(acc), 'bo', label='Smoothed training acc')\n",
    "plt.plot(epochs,\n",
    "         smooth_curve(val_acc), 'b', label='Smoothed validation acc')\n",
    "plt.title('Training and validation accuracy')\n",
    "plt.legend()\n",
    "\n",
    "plt.figure()\n",
    "\n",
    "plt.plot(epochs,\n",
    "         smooth_curve(loss), 'bo', label='Smoothed training loss')\n",
    "plt.plot(epochs,\n",
    "         smooth_curve(val_loss), 'b', label='Smoothed validation loss')\n",
    "plt.title('Training and validation loss')\n",
    "plt.legend()\n",
    "\n",
    "plt.show()"
   ]
  },
  {
   "cell_type": "code",
   "execution_count": null,
   "metadata": {},
   "outputs": [],
   "source": [
    "smooth_val_loss = smooth_curve(val_loss)\n",
    "smooth_val_loss.index(min(smooth_val_loss))"
   ]
  },
  {
   "cell_type": "code",
   "execution_count": null,
   "metadata": {},
   "outputs": [],
   "source": [
    "test_generator = test_datagen.flow_from_directory(test_dir,\n",
    "                                                  target_size=(150, 150),\n",
    "                                                  batch_size=20,\n",
    "                                                  class_mode='binary')\n",
    "\n",
    "test_loss, test_acc = model.evaluate_generator(test_generator, steps=50)\n",
    "print('test acc:', test_acc)"
   ]
  },
  {
   "cell_type": "code",
   "execution_count": null,
   "metadata": {},
   "outputs": [],
   "source": []
  },
  {
   "cell_type": "code",
   "execution_count": null,
   "metadata": {},
   "outputs": [],
   "source": [
    "# plt.plot(history.history['loss'])\n",
    "# plt.plot(history.history['val_loss'])\n",
    "# plt.title('model loss')\n",
    "# plt.ylabel('loss')\n",
    "# plt.xlabel('epoch')\n",
    "# plt.legend(['train', 'test'], loc='upper right')\n",
    "# plt.show()"
   ]
  },
  {
   "cell_type": "code",
   "execution_count": null,
   "metadata": {},
   "outputs": [],
   "source": [
    "# plt.plot(history.history['acc'])\n",
    "# plt.plot(history.history['val_acc'])\n",
    "# plt.title('model accuracy')\n",
    "# plt.ylabel('accuracy')\n",
    "# plt.xlabel('epoch')\n",
    "# plt.legend(['train', 'test'], loc='upper right')\n",
    "# plt.show()"
   ]
  }
 ],
 "metadata": {
  "kernelspec": {
   "display_name": "GPU",
   "language": "python",
   "name": "gpu"
  },
  "language_info": {
   "codemirror_mode": {
    "name": "ipython",
    "version": 3
   },
   "file_extension": ".py",
   "mimetype": "text/x-python",
   "name": "python",
   "nbconvert_exporter": "python",
   "pygments_lexer": "ipython3",
   "version": "3.6.6"
  }
 },
 "nbformat": 4,
 "nbformat_minor": 2
}
